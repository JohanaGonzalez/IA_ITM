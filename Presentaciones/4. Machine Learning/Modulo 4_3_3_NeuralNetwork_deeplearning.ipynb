{
 "cells": [
  {
   "cell_type": "markdown",
   "metadata": {},
   "source": [
    "<img src=\"res/itm_logo.jpg\" width=\"300px\">\n",
    "\n",
    "## Inteligencia Artificial - IAI84\n",
    "### Instituto Tecnológico Metropolitano\n",
    "#### Pedro Atencio Ortiz - 2018"
   ]
  },
  {
   "cell_type": "code",
   "execution_count": 24,
   "metadata": {},
   "outputs": [],
   "source": [
    "import numpy as np"
   ]
  },
  {
   "cell_type": "code",
   "execution_count": 6,
   "metadata": {},
   "outputs": [],
   "source": [
    "def linear_activation(W, b, X):\n",
    "    '''\n",
    "    Linear activation given and input X, and layer parameters W and b.\n",
    "    '''\n",
    "    z = np.dot(W,X) + b\n",
    "    \n",
    "    return z"
   ]
  },
  {
   "cell_type": "code",
   "execution_count": 7,
   "metadata": {},
   "outputs": [],
   "source": [
    "def sigmoid(z):\n",
    "    '''\n",
    "    Returns sigmoid activation for array z\n",
    "    '''\n",
    "    a = 1. / (1. + np.exp(-z)) \n",
    "    \n",
    "    return a "
   ]
  },
  {
   "cell_type": "code",
   "execution_count": 8,
   "metadata": {},
   "outputs": [],
   "source": [
    "def d_sigmoid(z):\n",
    "    return sigmoid(z) * (1. - sigmoid(z))"
   ]
  },
  {
   "cell_type": "code",
   "execution_count": 9,
   "metadata": {},
   "outputs": [],
   "source": [
    "def loss(y, a):\n",
    "    '''\n",
    "    Logistic loss.\n",
    "    '''\n",
    "    return -(y * np.log(a) + (1-y) * np.log(1-a))"
   ]
  },
  {
   "cell_type": "code",
   "execution_count": 10,
   "metadata": {},
   "outputs": [],
   "source": [
    "def cost(logloss):\n",
    "    '''\n",
    "    Cost function as mean of loss for every sample in dataset.\n",
    "    '''\n",
    "    return np.mean(logloss)"
   ]
  },
  {
   "cell_type": "code",
   "execution_count": 35,
   "metadata": {},
   "outputs": [],
   "source": [
    "def init(layers):\n",
    "    '''\n",
    "    Random initialization of parameters W and b for every layer in network specified in dictionary 'layers'.\n",
    "    \n",
    "    Input dictionary has the form: 'li':(int:number of neurons, string:activation function).\n",
    "    activation function can be: 'sigmoid' and 'relu'\n",
    "    '''\n",
    "    \n",
    "    l = len(layers) #number of layers\n",
    "    \n",
    "    parameters = {}\n",
    "    \n",
    "    for i in range(l-1):\n",
    "        W = np.random.randn(layers['l'+str(i+1)][0], layers['l'+str(i)][0])\n",
    "        b = np.zeros([layers['l'+str(i+1)][0], 1])\n",
    "        \n",
    "        parameters['l'+str(i+1)] = {'W':W, 'b':b}\n",
    "    \n",
    "    return parameters"
   ]
  },
  {
   "cell_type": "code",
   "execution_count": 20,
   "metadata": {},
   "outputs": [],
   "source": [
    "def print_network(layers):\n",
    "    '''\n",
    "    Print network architecture defined by input dictionary 'layers'\n",
    "    '''\n",
    "\n",
    "    l = len(layers)\n",
    "    for i in range(l):\n",
    "        if(i == 0):\n",
    "            print('Input layer: ', layers['l'+str(i)])\n",
    "        elif(i < l-1):\n",
    "            print('Hidden layer: ',i,' ', layers['l'+str(i)])\n",
    "        else:\n",
    "            print('Output layer: ', layers['l'+str(i)])"
   ]
  },
  {
   "cell_type": "code",
   "execution_count": 63,
   "metadata": {},
   "outputs": [],
   "source": [
    "def feed_forward(X, parameters):\n",
    "    '''\n",
    "    Forward propagation given an input dataset X, and a neural network parameters in a dictionary.\n",
    "    '''\n",
    "    \n",
    "    forward_computation = {}\n",
    "    \n",
    "    A = X\n",
    "    forward_computation['l0'] = {'Z':None, 'A':X}\n",
    "    \n",
    "    for i in range(len(parameters)):\n",
    "        W = parameters['l'+str(i+1)]['W']\n",
    "        b = parameters['l'+str(i+1)]['b']\n",
    "        Z = linear_activation(W,b,A)\n",
    "        A = sigmoid(Z)\n",
    "        \n",
    "        forward_computation['l'+str(i+1)] = {'Z':Z, 'A':A}\n",
    "    \n",
    "    return forward_computation"
   ]
  },
  {
   "cell_type": "code",
   "execution_count": 67,
   "metadata": {},
   "outputs": [
    {
     "name": "stdout",
     "output_type": "stream",
     "text": [
      "('Input layer: ', (2, 'sigmoid'))\n",
      "('Hidden layer: ', 1, ' ', (2, 'sigmoid'))\n",
      "('Hidden layer: ', 2, ' ', (3, 'sigmoid'))\n",
      "('Output layer: ', (1, 'sigmoid'))\n",
      "{'l2': {'b': array([[0.],\n",
      "       [0.],\n",
      "       [0.]]), 'W': array([[ 1.49639429,  0.9796219 ],\n",
      "       [-0.76059643, -0.22605261],\n",
      "       [ 0.21300177,  0.12250899]])}, 'l3': {'b': array([[0.]]), 'W': array([[-1.07687278, -0.09153635,  0.61199995]])}, 'l1': {'b': array([[0.],\n",
      "       [0.]]), 'W': array([[-0.33208066, -1.29511872],\n",
      "       [ 0.06532401, -1.45294667]])}}\n"
     ]
    }
   ],
   "source": [
    "layers = {'l0':(2, 'sigmoid'), 'l1':(2, 'sigmoid'), 'l2':(3, 'sigmoid'), 'l3':(1, 'sigmoid')} #dictionary with layers parameters\n",
    "print_network(layers)\n",
    "\n",
    "parameters = init(layers)\n",
    "print parameters"
   ]
  },
  {
   "cell_type": "code",
   "execution_count": 69,
   "metadata": {},
   "outputs": [
    {
     "name": "stdout",
     "output_type": "stream",
     "text": [
      "{'l2': {'A': array([[0.7752171 , 0.62419494, 0.75600475, 0.60860346],\n",
      "       [0.37911071, 0.44859062, 0.39306565, 0.45758633],\n",
      "       [0.54184077, 0.51724669, 0.53798484, 0.51485906]]), 'Z': array([[ 1.2380081 ,  0.50739218,  1.13089892,  0.44144573],\n",
      "       [-0.49332452, -0.20636679, -0.43444399, -0.17006337],\n",
      "       [ 0.16775538,  0.06901415,  0.15223266,  0.05945373]])}, 'l3': {'A': array([[0.36867482, 0.40210884, 0.37265255, 0.40560108]]), 'Z': array([[-0.53790608, -0.39668594, -0.52085404, -0.38218057]])}, 'l0': {'A': array([[0, 0, 1, 1],\n",
      "       [0, 1, 0, 1]]), 'Z': None}, 'l1': {'A': array([[0.5       , 0.21498768, 0.41773445, 0.16421438],\n",
      "       [0.5       , 0.18954848, 0.5163252 , 0.19978756]]), 'Z': array([[ 0.        , -1.29511872, -0.33208066, -1.62719938],\n",
      "       [ 0.        , -1.45294667,  0.06532401, -1.38762266]])}}\n"
     ]
    }
   ],
   "source": [
    "X = np.array([[0,0],[0,1],[1,0],[1,1]])\n",
    "X = X.T\n",
    "\n",
    "forward_computation = feed_forward(X, parameters)\n",
    "print(forward_computation)"
   ]
  },
  {
   "cell_type": "code",
   "execution_count": null,
   "metadata": {},
   "outputs": [],
   "source": [
    "def backward_propagation(forward_computation):\n",
    "    '''\n",
    "    Computes derivatives for W and b for each layer in forward_computation.\n",
    "    '''\n",
    "    for in range():"
   ]
  },
  {
   "cell_type": "markdown",
   "metadata": {},
   "source": [
    "<hr>\n",
    "## Algunas utilidades"
   ]
  },
  {
   "cell_type": "code",
   "execution_count": null,
   "metadata": {},
   "outputs": [],
   "source": [
    "'''\n",
    "UTILIDADES\n",
    "'''\n",
    "\n",
    "import sklearn\n",
    "from sklearn import datasets\n",
    "import matplotlib.pyplot as plt\n",
    "\n",
    "def generate_data(data_type, noise=0.2):\n",
    "    \"\"\"\n",
    "    Generate a binary dataset with distribution data_type\n",
    "\n",
    "    Arguments:\n",
    "    data_type -- distribution of dataset {moons,circles,blobs}\n",
    "\n",
    "    Returns:\n",
    "    X -- features\n",
    "    Y -- labels\n",
    "    \"\"\" \n",
    "    np.random.seed(0)\n",
    "    if data_type == 'moons':\n",
    "        X, Y = datasets.make_moons(200, noise=noise)\n",
    "    elif data_type == 'circles':\n",
    "        X, Y = sklearn.datasets.make_circles(200, noise=noise)\n",
    "    elif data_type == 'blobs':\n",
    "        X, Y = sklearn.datasets.make_blobs(centers=2, cluster_std=noise)\n",
    "    return X, Y\n",
    "\n",
    "def visualize_lr(parameters, X, Y):\n",
    "    X = X.T\n",
    "    \n",
    "    # Set min and max values and give it some padding\n",
    "    x_min, x_max = X[:, 0].min() - .5, X[:, 0].max() + .5\n",
    "    y_min, y_max = X[:, 1].min() - .5, X[:, 1].max() + .5\n",
    "    h = 0.01\n",
    "    # Generate a grid of points with distance h between them\n",
    "    xx, yy = np.meshgrid(np.arange(x_min, x_max, h), np.arange(y_min, y_max, h))\n",
    "    # Predict the function value for the whole gid\n",
    "    #Z = pred_func(W,b,np.c_[xx.ravel(), yy.ravel()])\n",
    "    Z = predict_multilayer(parameters, np.c_[xx.ravel(), yy.ravel()].T)\n",
    "    Z = Z.reshape(xx.shape)\n",
    "    # Plot the contour and training examples\n",
    "    plt.figure(figsize=(7,5))\n",
    "    plt.contourf(xx, yy, Z, cmap=plt.cm.Spectral)\n",
    "    \n",
    "    color= ['blue' if y == 1 else 'red' for y in np.squeeze(Y)]\n",
    "    plt.scatter(X[:,0], X[:,1], color=color)\n",
    "    \n",
    "    plt.show()"
   ]
  },
  {
   "cell_type": "markdown",
   "metadata": {},
   "source": [
    "<hr>\n",
    "# Trabajemos\n",
    "3. Realicemos descenso del gradiente sobre la red neural completa."
   ]
  },
  {
   "cell_type": "markdown",
   "metadata": {},
   "source": [
    "### - Dataset"
   ]
  },
  {
   "cell_type": "code",
   "execution_count": null,
   "metadata": {},
   "outputs": [],
   "source": [
    "import numpy as np\n",
    "import matplotlib.pyplot as plt\n",
    "\n",
    "X, Y = generate_data('moons')\n",
    "nx,m = X.T.shape\n",
    "\n",
    "color= ['blue' if y == 1 else 'red' for y in np.squeeze(Y)]\n",
    "\n",
    "plt.figure(figsize=(7,5))\n",
    "plt.scatter(X[:,0], X[:,1], color=color)\n",
    "\n",
    "plt.show()\n",
    "\n",
    "X = X.T"
   ]
  },
  {
   "cell_type": "markdown",
   "metadata": {},
   "source": [
    "<hr>\n",
    "### - Apliquemos descenso del gradiente a cada regresor logístico por separado"
   ]
  },
  {
   "cell_type": "code",
   "execution_count": null,
   "metadata": {},
   "outputs": [],
   "source": [
    "'''\n",
    "Metaparameters initialization\n",
    "'''\n",
    "num_epochs = 30000\n",
    "learning_rate = 0.9\n",
    "\n",
    "'''\n",
    "Parameters initialization\n",
    "'''\n",
    "parameters = initialize_parameters(10)\n",
    "W1 = parameters[\"W1\"]\n",
    "b1 = parameters[\"b1\"]\n",
    "W2 = parameters[\"W2\"]\n",
    "b2 = parameters[\"b2\"]\n",
    "W3 = parameters[\"W3\"]\n",
    "b3 = parameters[\"b3\"]\n",
    "\n",
    "print (\"parametros iniciales: \", parameters)\n",
    "\n",
    "error_array = np.zeros([num_epochs])#lo utilizaremos para plotear el error\n",
    "\n",
    "'''\n",
    "Gradient descent\n",
    "'''\n",
    "for i in range(num_epochs): #2000 iteraciones del descenso del gradiente\n",
    "    '''\n",
    "    Forward Propagation\n",
    "    '''\n",
    "    Z1 = linear_activation(W1,b1,X)\n",
    "    A1 = sigmoid(Z1)\n",
    "    \n",
    "    Z2 = linear_activation(W2,b2,A1)\n",
    "    A2 = sigmoid(Z2)\n",
    "    \n",
    "    Z3 = linear_activation(W3,b3,A2)\n",
    "    A3 = sigmoid(Z3)\n",
    "        \n",
    "    '''\n",
    "    Backward Propagation\n",
    "    '''\n",
    "    dZ3 = A3 - Y\n",
    "    dW3 = np.dot(dZ3, A2.T) / m\n",
    "    db3 = np.sum(dZ3, axis=1, keepdims=True) / m\n",
    "    \n",
    "    dZ2 = np.multiply(np.dot(W3.T, dZ3), d_sigmoid(Z2))\n",
    "    dW2 = np.dot(dZ2, A1.T) / m\n",
    "    db2 = np.sum(dZ2, axis=1, keepdims=True) / m \n",
    "    \n",
    "    dZ1 = np.multiply(np.dot(W2.T, dZ2), d_sigmoid(Z1))\n",
    "    dW1 = np.dot(dZ1, X.T) / m\n",
    "    db1 = np.sum(dZ1, axis=1, keepdims=True) / m\n",
    "    \n",
    "    '''\n",
    "    Parameters Update\n",
    "    '''\n",
    "    W1 -= learning_rate * dW1\n",
    "    W2 -= learning_rate * dW2\n",
    "    W3 -= learning_rate * dW3\n",
    "    b1 -= learning_rate * db1\n",
    "    b2 -= learning_rate * db2\n",
    "    b3 -= learning_rate * db3\n",
    "    \n",
    "    '''\n",
    "    Cost estimation\n",
    "    '''\n",
    "    J = cost(loss(Y,A3))\n",
    "    error_array[i] = J\n",
    "    \n",
    "    \n",
    "    if(i%1000 == 0):\n",
    "        print(\"costo -- iteracion \", i, \": \", J)\n",
    "        \n",
    "print(\"parametros actualizados: \", parameters)\n",
    "\n",
    "'''\n",
    "Testing\n",
    "'''\n",
    "print(\"Predicciones del clasificador: \", predict_multilayer(parameters,X))\n",
    "\n",
    "'''\n",
    "Visualizacion del error por epoca\n",
    "'''\n",
    "plt.figure(figsize=(10,5))\n",
    "plt.plot(np.linspace(0,num_epochs-1, num_epochs), error_array)\n",
    "plt.xlabel(\"numero de epocas\")\n",
    "plt.ylabel(\"error: \"+r'$J$')\n",
    "plt.show()"
   ]
  },
  {
   "cell_type": "markdown",
   "metadata": {},
   "source": [
    "### - Visualizacion del resultado"
   ]
  },
  {
   "cell_type": "code",
   "execution_count": null,
   "metadata": {},
   "outputs": [],
   "source": [
    "import matplotlib.pyplot as plt\n",
    "\n",
    "def visualize_lr(parameters, X, Y):\n",
    "    X = X.T\n",
    "    \n",
    "    # Set min and max values and give it some padding\n",
    "    x_min, x_max = X[:, 0].min() - .5, X[:, 0].max() + .5\n",
    "    y_min, y_max = X[:, 1].min() - .5, X[:, 1].max() + .5\n",
    "    h = 0.01\n",
    "    # Generate a grid of points with distance h between them\n",
    "    xx, yy = np.meshgrid(np.arange(x_min, x_max, h), np.arange(y_min, y_max, h))\n",
    "    # Predict the function value for the whole gid\n",
    "    Z = predict_multilayer(parameters, np.c_[xx.ravel(), yy.ravel()].T)\n",
    "    Z = Z.reshape(xx.shape)\n",
    "    # Plot the contour and training examples\n",
    "    plt.figure(figsize=(7,5))\n",
    "    plt.contourf(xx, yy, Z, cmap=plt.cm.Spectral)\n",
    "    \n",
    "    color= ['blue' if y == 1 else 'red' for y in np.squeeze(Y)]\n",
    "    plt.scatter(X[:,0], X[:,1], color=color)\n",
    "    \n",
    "    plt.show()"
   ]
  },
  {
   "cell_type": "code",
   "execution_count": null,
   "metadata": {
    "scrolled": true
   },
   "outputs": [],
   "source": [
    "visualize_lr(parameters, X, Y)"
   ]
  },
  {
   "cell_type": "code",
   "execution_count": null,
   "metadata": {},
   "outputs": [],
   "source": []
  },
  {
   "cell_type": "code",
   "execution_count": null,
   "metadata": {},
   "outputs": [],
   "source": []
  }
 ],
 "metadata": {
  "kernelspec": {
   "display_name": "Python 2",
   "language": "python",
   "name": "python2"
  },
  "language_info": {
   "codemirror_mode": {
    "name": "ipython",
    "version": 2
   },
   "file_extension": ".py",
   "mimetype": "text/x-python",
   "name": "python",
   "nbconvert_exporter": "python",
   "pygments_lexer": "ipython2",
   "version": "2.7.15"
  }
 },
 "nbformat": 4,
 "nbformat_minor": 2
}
