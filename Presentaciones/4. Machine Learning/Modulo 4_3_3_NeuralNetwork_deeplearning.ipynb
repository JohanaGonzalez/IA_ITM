{
 "cells": [
  {
   "cell_type": "markdown",
   "metadata": {},
   "source": [
    "<img src=\"res/itm_logo.jpg\" width=\"300px\">\n",
    "\n",
    "## Inteligencia Artificial - IAI84\n",
    "### Instituto Tecnológico Metropolitano\n",
    "#### Pedro Atencio Ortiz - 2018"
   ]
  },
  {
   "cell_type": "code",
   "execution_count": 46,
   "metadata": {},
   "outputs": [],
   "source": [
    "import numpy as np"
   ]
  },
  {
   "cell_type": "markdown",
   "metadata": {},
   "source": [
    "<h1>1. Funciones de utilidad</h1>"
   ]
  },
  {
   "cell_type": "code",
   "execution_count": 47,
   "metadata": {},
   "outputs": [],
   "source": [
    "def linear_activation(W, b, X):\n",
    "    '''\n",
    "    Linear activation given and input X, and layer parameters W and b.\n",
    "    '''\n",
    "    z = np.dot(W,X) + b\n",
    "    \n",
    "    return z"
   ]
  },
  {
   "cell_type": "code",
   "execution_count": 48,
   "metadata": {},
   "outputs": [],
   "source": [
    "def sigmoid(z):\n",
    "    '''\n",
    "    Returns sigmoid activation for array z\n",
    "    '''\n",
    "    a = 1. / (1. + np.exp(-z)) \n",
    "    \n",
    "    return a "
   ]
  },
  {
   "cell_type": "code",
   "execution_count": 49,
   "metadata": {},
   "outputs": [],
   "source": [
    "def d_sigmoid(z):\n",
    "    return sigmoid(z) * (1. - sigmoid(z))"
   ]
  },
  {
   "cell_type": "code",
   "execution_count": 50,
   "metadata": {},
   "outputs": [],
   "source": [
    "def loss(y, a):\n",
    "    '''\n",
    "    Logistic loss.\n",
    "    '''\n",
    "    return -(y * np.log(a) + (1-y) * np.log(1-a))"
   ]
  },
  {
   "cell_type": "code",
   "execution_count": 51,
   "metadata": {},
   "outputs": [],
   "source": [
    "def cost(logloss):\n",
    "    '''\n",
    "    Cost function as mean of loss for every sample in dataset.\n",
    "    '''\n",
    "    return np.mean(logloss)"
   ]
  },
  {
   "cell_type": "code",
   "execution_count": 52,
   "metadata": {},
   "outputs": [],
   "source": [
    "def print_network(layers):\n",
    "    '''\n",
    "    Print network architecture defined by input dictionary 'layers'\n",
    "    '''\n",
    "\n",
    "    l = len(layers)\n",
    "    for i in range(l):\n",
    "        if(i == 0):\n",
    "            print('Input layer: ', layers['l'+str(i)])\n",
    "        elif(i < l-1):\n",
    "            print('Hidden layer: ',i,' ', layers['l'+str(i)])\n",
    "        else:\n",
    "            print('Output layer: ', layers['l'+str(i)])"
   ]
  },
  {
   "cell_type": "code",
   "execution_count": 53,
   "metadata": {},
   "outputs": [
    {
     "name": "stdout",
     "output_type": "stream",
     "text": [
      "('Input layer: ', (2, 'sigmoid'))\n",
      "('Hidden layer: ', 1, ' ', (2, 'sigmoid'))\n",
      "('Hidden layer: ', 2, ' ', (3, 'sigmoid'))\n",
      "('Output layer: ', (1, 'sigmoid'))\n"
     ]
    }
   ],
   "source": [
    "layers = {'l0':(2, 'sigmoid'), 'l1':(2, 'sigmoid'), 'l2':(3, 'sigmoid'), 'l3':(1, 'sigmoid')} #dictionary with layers parameters\n",
    "print_network(layers)"
   ]
  },
  {
   "cell_type": "markdown",
   "metadata": {},
   "source": [
    "<h1>2. Inicialización de parámetros</h1>\n",
    "\n",
    "Definido como:\n",
    "\n",
    "<font size=3>\n",
    "<center>$W^{[i]} \\in R^{nl^{[i]} \\times nl^{[i-1]}}$</center>\n",
    "<center>$b^{[i]} \\in R^{nl^{[i]} \\times 1}$</center>\n",
    "</font>"
   ]
  },
  {
   "cell_type": "code",
   "execution_count": 54,
   "metadata": {},
   "outputs": [],
   "source": [
    "def init(layers):\n",
    "    '''\n",
    "    Random initialization of parameters W and b for every layer in network specified in dictionary 'layers'.\n",
    "    \n",
    "    Input dictionary has the form: 'li':(int:number of neurons, string:activation function).\n",
    "    activation function can be: 'sigmoid' and 'relu'\n",
    "    '''\n",
    "    \n",
    "    l = len(layers) #number of layers\n",
    "    \n",
    "    parameters = {}\n",
    "    \n",
    "    for i in range(1, l):\n",
    "        W = np.random.randn(layers['l'+str(i)][0], layers['l'+str(i-1)][0])\n",
    "        b = np.zeros([layers['l'+str(i)][0], 1])\n",
    "        \n",
    "        parameters['l'+str(i)] = {'W':W, 'b':b}\n",
    "    \n",
    "    return parameters"
   ]
  },
  {
   "cell_type": "markdown",
   "metadata": {},
   "source": [
    "<h1>3. Forward propagation - propagación hacia adelante</h1>\n",
    "\n",
    "Definida como:\n",
    "\n",
    "<font size=3>\n",
    "<center>$Z^{[i]} = W^{[i]} \\cdot A^{[i-1]} + b^{[i]}$</center>\n",
    "<center>$A^{[i]} = \\sigma(Z^{i})$</center>\n",
    "</font>"
   ]
  },
  {
   "cell_type": "code",
   "execution_count": 55,
   "metadata": {},
   "outputs": [],
   "source": [
    "def feed_forward(X, parameters):\n",
    "    '''\n",
    "    Forward propagation given an input dataset X, and a neural network parameters in a dictionary.\n",
    "    '''\n",
    "    \n",
    "    forward_computation = {}\n",
    "    \n",
    "    A = X\n",
    "    forward_computation['l0'] = {'Z':None, 'A':X}\n",
    "    \n",
    "    l = len(parameters)\n",
    "    \n",
    "    for i in range(1,l+1):\n",
    "        W = parameters['l'+str(i)]['W']\n",
    "        b = parameters['l'+str(i)]['b']\n",
    "        Z = linear_activation(W,b,A)\n",
    "        A = sigmoid(Z)\n",
    "        \n",
    "        forward_computation['l'+str(i)] = {'Z':Z, 'A':A}\n",
    "    \n",
    "    return forward_computation"
   ]
  },
  {
   "cell_type": "code",
   "execution_count": 56,
   "metadata": {},
   "outputs": [
    {
     "name": "stdout",
     "output_type": "stream",
     "text": [
      "('Input layer: ', (2, 'sigmoid'))\n",
      "('Hidden layer: ', 1, ' ', (2, 'sigmoid'))\n",
      "('Hidden layer: ', 2, ' ', (3, 'sigmoid'))\n",
      "('Output layer: ', (1, 'sigmoid'))\n",
      "{'l2': {'b': array([[0.],\n",
      "       [0.],\n",
      "       [0.]]), 'W': array([[-0.52731942, -0.15469037],\n",
      "       [-0.29927236,  0.70850768],\n",
      "       [-0.57982513,  1.68992749]])}, 'l3': {'b': array([[0.]]), 'W': array([[-0.42659837, -0.19692692, -1.86805984]])}, 'l1': {'b': array([[0.],\n",
      "       [0.]]), 'W': array([[ 0.36755118, -1.89916811],\n",
      "       [-1.53190491,  0.07600218]])}}\n"
     ]
    }
   ],
   "source": [
    "layers = {'l0':(2, 'sigmoid'), 'l1':(2, 'sigmoid'), 'l2':(3, 'sigmoid'), 'l3':(1, 'sigmoid')} #dictionary with layers parameters\n",
    "print_network(layers)\n",
    "\n",
    "parameters = init(layers)\n",
    "print parameters"
   ]
  },
  {
   "cell_type": "code",
   "execution_count": 57,
   "metadata": {},
   "outputs": [
    {
     "name": "stdout",
     "output_type": "stream",
     "text": [
      "{'l2': {'A': array([[0.4155654 , 0.46283334, 0.41603625, 0.4692922 ],\n",
      "       [0.55097668, 0.58145358, 0.48727334, 0.52018335],\n",
      "       [0.63530671, 0.69030874, 0.4894331 , 0.5539117 ]]), 'Z': array([[-0.34100489, -0.14894136, -0.33906653, -0.12298598],\n",
      "       [ 0.20461766,  0.32874334, -0.05091765,  0.08077729],\n",
      "       [ 0.55505118,  0.80156307, -0.0422739 ,  0.21648838]])}, 'l3': {'A': array([[0.18655191, 0.16777405, 0.23366554, 0.20794164]]), 'Z': array([[-1.47257261, -1.60148584, -1.18772794, -1.33737759]])}, 'l0': {'A': array([[0, 0, 1, 1],\n",
      "       [0, 1, 0, 1]]), 'Z': None}, 'l1': {'A': array([[0.5       , 0.13020266, 0.59086713, 0.17775723],\n",
      "       [0.5       , 0.5189914 , 0.17771515, 0.18909479]]), 'Z': array([[ 0.        , -1.89916811,  0.36755118, -1.53161693],\n",
      "       [ 0.        ,  0.07600218, -1.53190491, -1.45590273]])}}\n",
      "4\n"
     ]
    }
   ],
   "source": [
    "X = np.array([[0,0],[0,1],[1,0],[1,1]])\n",
    "Y = np.array([[0, 1, 1, 0]])\n",
    "X = X.T\n",
    "\n",
    "forward_computation = feed_forward(X, parameters)\n",
    "print(forward_computation)\n",
    "print len(forward_computation)"
   ]
  },
  {
   "cell_type": "markdown",
   "metadata": {},
   "source": [
    "<h1>4. Backward propagation</h1>\n",
    "\n",
    "Definida como:\n",
    "\n",
    "<font size=3>\n",
    "<center>$dZ^{[i]} = A^{[i]} - Y$, si $i == l$</center>\n",
    "<center>$dZ^{[i]} = (W^{[i+1]}T \\cdot dZ^{[i+1]}) \\times \\sigma^{'}(Z^{[i]})$, en caso contrario</center>\n",
    "<br>\n",
    "<center>$dW^{[i]} = (dZ^{[i]} \\cdot A^{[i-1]}) / m$</center>\n",
    "<center>$db^{[i]} = \\sum{(dZ^{[i]})} / m$</center>\n",
    "</font>"
   ]
  },
  {
   "cell_type": "code",
   "execution_count": 43,
   "metadata": {},
   "outputs": [],
   "source": [
    "def backward_propagation(parameters, forward_computation, Y):\n",
    "    '''\n",
    "    Computes derivatives for W and b for each layer in forward_computation.\n",
    "    '''\n",
    "    \n",
    "    '''\n",
    "    dZ3 = A3 - Y\n",
    "    dW3 = np.dot(dZ3, A2.T) / m\n",
    "    db3 = np.sum(dZ3, axis=1, keepdims=True) / m\n",
    "    \n",
    "    dZ2 = np.multiply(np.dot(W3.T, dZ3), d_sigmoid(Z2))\n",
    "    dW2 = np.dot(dZ2, A1.T) / m\n",
    "    db2 = np.sum(dZ2, axis=1, keepdims=True) / m \n",
    "    \n",
    "    dZ1 = np.multiply(np.dot(W2.T, dZ2), d_sigmoid(Z1))\n",
    "    dW1 = np.dot(dZ1, X.T) / m\n",
    "    db1 = np.sum(dZ1, axis=1, keepdims=True) / m\n",
    "    '''\n",
    "    \n",
    "    backward_computation = {}\n",
    "    \n",
    "    l = len(parameters)\n",
    "    m = len(Y)\n",
    "    \n",
    "    for i in reversed(range(1,l+1)):\n",
    "        #print('layer: ',i)\n",
    "        \n",
    "        if(i == l):\n",
    "            dZ = forward_computation['l'+str(i)]['A'] - Y\n",
    "        else:\n",
    "            W = parameters['l'+str(i+1)]['W']\n",
    "            Z = forward_computation['l'+str(i)]['Z']\n",
    "            dZ = np.multiply(np.dot(W.T, dZ), d_sigmoid(Z))\n",
    "        \n",
    "        A = forward_computation['l'+str(i-1)]['A']\n",
    "        dW = np.dot(dZ, A.T) / m\n",
    "        db = np.sum(dZ, axis=1, keepdims=True) / m\n",
    "        \n",
    "        backward_computation['l'+str(i)] = {'dZ':dZ, 'dW':dW, 'db':db}\n",
    "        \n",
    "        \n",
    "    return backward_computation"
   ]
  },
  {
   "cell_type": "code",
   "execution_count": 35,
   "metadata": {},
   "outputs": [
    {
     "name": "stdout",
     "output_type": "stream",
     "text": [
      "{'l2': {'db': array([[0.12626909],\n",
      "       [0.05827865],\n",
      "       [0.5133612 ]]), 'dW': array([[0.04483043, 0.04608243],\n",
      "       [0.02110966, 0.02092317],\n",
      "       [0.19721165, 0.17754319]]), 'dZ': array([[-0.01932832,  0.08826614,  0.07942452, -0.02209324],\n",
      "       [-0.00908881,  0.03988458,  0.03770353, -0.01022065],\n",
      "       [-0.08074241,  0.33235664,  0.35772981, -0.09598285]])}, 'l3': {'db': array([[-1.20406686]]), 'dW': array([[-0.52889492, -0.64636158, -0.71586331]]), 'dZ': array([[ 0.18655191, -0.83222595, -0.76633446,  0.20794164]])}, 'l1': {'db': array([[-0.0662259 ],\n",
      "       [ 0.17387581]]), 'dW': array([[-0.05271088, -0.01816308],\n",
      "       [ 0.06499244,  0.1183996 ]]), 'dZ': array([[ 0.01493218, -0.0284472 , -0.06299499,  0.01028411],\n",
      "       [-0.0349746 ,  0.14385797,  0.09045081, -0.02545837]])}}\n"
     ]
    }
   ],
   "source": [
    "backward_computation = backward_propagation(parameters, forward_computation, Y)\n",
    "print backward_computation"
   ]
  },
  {
   "cell_type": "markdown",
   "metadata": {},
   "source": [
    "<h1>5. Actualización de parámetros</h1>\n",
    "\n",
    "Definida como:\n",
    "\n",
    "<font size=3>\n",
    "<center>$W^{[i]} = W^{[i]} - \\alpha dW^{[i]}$</center>\n",
    "<center>$b^{[i]} = b^{[i]} - \\alpha db^{[i]}$</center>\n",
    "</font>"
   ]
  },
  {
   "cell_type": "code",
   "execution_count": 36,
   "metadata": {},
   "outputs": [],
   "source": [
    "def update_params(parameters, backward_computation, learning_rate):\n",
    "    \n",
    "    l = len(parameters)\n",
    "    \n",
    "    for i in range(1,l+1):\n",
    "        parameters['l'+str(i)]['W'] = parameters['l'+str(i)]['W'] - learning_rate * backward_computation['l'+str(i)]['dW']\n",
    "        parameters['l'+str(i)]['b'] = parameters['l'+str(i)]['b'] - learning_rate * backward_computation['l'+str(i)]['db']\n",
    "    \n",
    "    return parameters"
   ]
  },
  {
   "cell_type": "code",
   "execution_count": 37,
   "metadata": {},
   "outputs": [
    {
     "name": "stdout",
     "output_type": "stream",
     "text": [
      "{'l2': {'b': array([[-0.06313455],\n",
      "       [-0.02913933],\n",
      "       [-0.2566806 ]]), 'W': array([[-0.54973463, -0.17773158],\n",
      "       [-0.30982718,  0.6980461 ],\n",
      "       [-0.67843095,  1.6011559 ]])}, 'l3': {'b': array([[0.60203343]]), 'W': array([[-0.16215091,  0.12625387, -1.51012819]])}, 'l1': {'b': array([[ 0.03311295],\n",
      "       [-0.0869379 ]]), 'W': array([[ 0.39390662, -1.89008657],\n",
      "       [-1.56440113,  0.01680238]])}}\n"
     ]
    }
   ],
   "source": [
    "parameters = update_params(parameters, backward_computation, 0.5)\n",
    "print parameters"
   ]
  },
  {
   "cell_type": "markdown",
   "metadata": {},
   "source": [
    "<hr>\n",
    "## Algunas utilidades"
   ]
  },
  {
   "cell_type": "code",
   "execution_count": 38,
   "metadata": {},
   "outputs": [],
   "source": [
    "'''\n",
    "UTILIDADES\n",
    "'''\n",
    "\n",
    "import sklearn\n",
    "from sklearn import datasets\n",
    "import matplotlib.pyplot as plt\n",
    "\n",
    "def generate_data(data_type, noise=0.2):\n",
    "    \"\"\"\n",
    "    Generate a binary dataset with distribution data_type\n",
    "\n",
    "    Arguments:\n",
    "    data_type -- distribution of dataset {moons,circles,blobs}\n",
    "\n",
    "    Returns:\n",
    "    X -- features\n",
    "    Y -- labels\n",
    "    \"\"\" \n",
    "    np.random.seed(0)\n",
    "    if data_type == 'moons':\n",
    "        X, Y = datasets.make_moons(200, noise=noise)\n",
    "    elif data_type == 'circles':\n",
    "        X, Y = sklearn.datasets.make_circles(200, noise=noise)\n",
    "    elif data_type == 'blobs':\n",
    "        X, Y = sklearn.datasets.make_blobs(centers=2, cluster_std=noise)\n",
    "    return X, Y\n",
    "\n",
    "def visualize_lr(parameters, X, Y):\n",
    "    X = X.T\n",
    "    \n",
    "    # Set min and max values and give it some padding\n",
    "    x_min, x_max = X[:, 0].min() - .5, X[:, 0].max() + .5\n",
    "    y_min, y_max = X[:, 1].min() - .5, X[:, 1].max() + .5\n",
    "    h = 0.01\n",
    "    # Generate a grid of points with distance h between them\n",
    "    xx, yy = np.meshgrid(np.arange(x_min, x_max, h), np.arange(y_min, y_max, h))\n",
    "    # Predict the function value for the whole gid\n",
    "    #Z = pred_func(W,b,np.c_[xx.ravel(), yy.ravel()])\n",
    "    Z = predict_multilayer(parameters, np.c_[xx.ravel(), yy.ravel()].T)\n",
    "    Z = Z.reshape(xx.shape)\n",
    "    # Plot the contour and training examples\n",
    "    plt.figure(figsize=(7,5))\n",
    "    plt.contourf(xx, yy, Z, cmap=plt.cm.Spectral)\n",
    "    \n",
    "    color= ['blue' if y == 1 else 'red' for y in np.squeeze(Y)]\n",
    "    plt.scatter(X[:,0], X[:,1], color=color)\n",
    "    \n",
    "    plt.show()\n",
    "    \n",
    "def predict_multilayer(parameters, X):\n",
    "    forward_computation = {}\n",
    "    \n",
    "    A = X\n",
    "    \n",
    "    for i in range(len(parameters)):\n",
    "        W = parameters['l'+str(i+1)]['W']\n",
    "        b = parameters['l'+str(i+1)]['b']\n",
    "        Z = linear_activation(W,b,A)\n",
    "        A = sigmoid(Z)\n",
    "\n",
    "    return np.round(A)"
   ]
  },
  {
   "cell_type": "markdown",
   "metadata": {},
   "source": [
    "<hr>\n",
    "# Trabajemos\n",
    "3. Realicemos descenso del gradiente sobre la red neural completa."
   ]
  },
  {
   "cell_type": "markdown",
   "metadata": {},
   "source": [
    "### - Dataset"
   ]
  },
  {
   "cell_type": "code",
   "execution_count": 39,
   "metadata": {},
   "outputs": [
    {
     "data": {
      "image/png": "[encoded data removed]",
      "text/plain": [
       "<Figure size 504x360 with 1 Axes>"
      ]
     },
     "metadata": {
      "needs_background": "light"
     },
     "output_type": "display_data"
    }
   ],
   "source": [
    "import numpy as np\n",
    "import matplotlib.pyplot as plt\n",
    "\n",
    "X, Y = generate_data('moons')\n",
    "nx,m = X.T.shape\n",
    "\n",
    "color= ['blue' if y == 1 else 'red' for y in np.squeeze(Y)]\n",
    "\n",
    "plt.figure(figsize=(7,5))\n",
    "plt.scatter(X[:,0], X[:,1], color=color)\n",
    "\n",
    "plt.show()\n",
    "\n",
    "X = X.T"
   ]
  },
  {
   "cell_type": "markdown",
   "metadata": {},
   "source": [
    "<hr>\n",
    "### - Apliquemos descenso del gradiente a cada regresor logístico por separado"
   ]
  },
  {
   "cell_type": "code",
   "execution_count": 40,
   "metadata": {},
   "outputs": [
    {
     "name": "stdout",
     "output_type": "stream",
     "text": [
      "('costo -- iteracion ', 0, ': ', 1.0312641476678102)\n",
      "('costo -- iteracion ', 1000, ': ', 0.011387866603036093)\n",
      "('costo -- iteracion ', 2000, ': ', 0.00354838240400027)\n",
      "('costo -- iteracion ', 3000, ': ', 0.002016164257344771)\n",
      "('costo -- iteracion ', 4000, ': ', 0.001389048934086228)\n",
      "('costo -- iteracion ', 5000, ': ', 0.0010525881019865697)\n",
      "('costo -- iteracion ', 6000, ': ', 0.0008441618955644315)\n",
      "('costo -- iteracion ', 7000, ': ', 0.0007029408409882717)\n",
      "('costo -- iteracion ', 8000, ': ', 0.0006012010222325543)\n",
      "('costo -- iteracion ', 9000, ': ', 0.0005245570899176142)\n",
      "('costo -- iteracion ', 10000, ': ', 0.00046482347015511135)\n",
      "('costo -- iteracion ', 11000, ': ', 0.00041700871637752627)\n",
      "('costo -- iteracion ', 12000, ': ', 0.0003779005298891054)\n",
      "('costo -- iteracion ', 13000, ': ', 0.000345340270429352)\n",
      "('costo -- iteracion ', 14000, ': ', 0.00031782498425352924)\n",
      "('costo -- iteracion ', 15000, ': ', 0.00029427677279403926)\n",
      "('costo -- iteracion ', 16000, ': ', 0.00027390290840520736)\n",
      "('costo -- iteracion ', 17000, ': ', 0.00025610766586968924)\n",
      "('costo -- iteracion ', 18000, ': ', 0.00024043489202896657)\n",
      "('costo -- iteracion ', 19000, ': ', 0.00022652951692045777)\n",
      "('parametros actualizados: ', {'l2': {'b': array([[ 0.10835771],\n",
      "       [-0.65308267],\n",
      "       [-0.19888011],\n",
      "       [ 0.5648197 ],\n",
      "       [ 1.11392092]]), 'W': array([[-4.71783932e-03, -2.53072800e-01, -1.56745639e+00,\n",
      "        -1.57476369e-01, -4.49668701e-01],\n",
      "       [ 3.42345245e-02,  2.86403245e+00, -1.36904413e+00,\n",
      "         2.41227539e+00, -4.18720262e+00],\n",
      "       [ 7.13917747e-01, -5.95788463e-02, -1.24201105e+00,\n",
      "         9.89648158e-01,  1.09006442e+00],\n",
      "       [ 4.60643564e-01, -3.64042476e+00,  1.82605224e+00,\n",
      "        -1.29448793e+00,  4.81088122e+00],\n",
      "       [ 1.86732565e+00, -4.91324442e+00,  1.22563533e+00,\n",
      "        -2.29130024e+00,  5.75748586e+00]])}, 'l3': {'b': array([[-3.10346409]]), 'W': array([[-0.66333457, -7.06201086, -0.26007582,  6.42129494,  9.05919724]])}, 'l1': {'b': array([[-0.12659621],\n",
      "       [ 2.03274598],\n",
      "       [-0.08441286],\n",
      "       [ 0.36664607],\n",
      "       [-2.60325834]]), 'W': array([[-1.0367778 ,  0.50164298],\n",
      "       [ 5.08186771, -4.14934237],\n",
      "       [-2.09466978,  0.79237339],\n",
      "       [-2.78406947, -3.37245459],\n",
      "       [ 5.21784671, -6.11172777]])}})\n"
     ]
    },
    {
     "data": {
      "image/png": "[encoded data removed]",
      "text/plain": [
       "<Figure size 720x360 with 1 Axes>"
      ]
     },
     "metadata": {
      "needs_background": "light"
     },
     "output_type": "display_data"
    }
   ],
   "source": [
    "'''\n",
    "Metaparameters initialization\n",
    "'''\n",
    "num_epochs = 20000\n",
    "learning_rate = 0.1\n",
    "\n",
    "'''\n",
    "Dataset loading\n",
    "'''\n",
    "X = np.array([[0,0],[0,1],[1,0],[1,1]])\n",
    "Y = np.array([[0, 1, 1, 0]])\n",
    "X = X.T\n",
    "\n",
    "'''\n",
    "Parameters initialization\n",
    "'''\n",
    "layers = {'l0':(2, 'sigmoid'), 'l1':(5, 'sigmoid'), 'l2':(5, 'sigmoid'), 'l3':(1, 'sigmoid')} #dictionary with layers parameters\n",
    "parameters = init(layers)\n",
    "\n",
    "l = len(layers)\n",
    "\n",
    "error_array = np.zeros([num_epochs])#lo utilizaremos para plotear el error\n",
    "\n",
    "'''\n",
    "Gradient descent\n",
    "'''\n",
    "for i in range(num_epochs): #2000 iteraciones del descenso del gradiente\n",
    "    '''\n",
    "    Forward Propagation\n",
    "    '''\n",
    "    forward_computation = feed_forward(X, parameters)\n",
    "        \n",
    "    '''\n",
    "    Backward Propagation\n",
    "    '''\n",
    "    backward_computation = backward_propagation(parameters, forward_computation, Y)\n",
    "    \n",
    "    '''\n",
    "    Parameters Update\n",
    "    '''\n",
    "    parameters = update_params(parameters, backward_computation, learning_rate)\n",
    "    \n",
    "    '''\n",
    "    Cost estimation\n",
    "    '''\n",
    "    J = cost(loss(Y, forward_computation['l'+str(l-1)]['A']))\n",
    "    error_array[i] = J\n",
    "    \n",
    "    \n",
    "    if(i%1000 == 0):\n",
    "        print(\"costo -- iteracion \", i, \": \", J)\n",
    "        \n",
    "print(\"parametros actualizados: \", parameters)\n",
    "\n",
    "'''\n",
    "Visualizacion del error por epoca\n",
    "'''\n",
    "plt.figure(figsize=(10,5))\n",
    "plt.plot(np.linspace(0,num_epochs-1, num_epochs), error_array)\n",
    "plt.xlabel(\"numero de epocas\")\n",
    "plt.ylabel(\"error: \"+r'$J$')\n",
    "plt.show()"
   ]
  },
  {
   "cell_type": "markdown",
   "metadata": {},
   "source": [
    "### - Visualizacion del resultado"
   ]
  },
  {
   "cell_type": "code",
   "execution_count": 41,
   "metadata": {},
   "outputs": [],
   "source": [
    "import matplotlib.pyplot as plt\n",
    "\n",
    "def visualize_lr(parameters, X, Y):\n",
    "    X = X.T\n",
    "    \n",
    "    # Set min and max values and give it some padding\n",
    "    x_min, x_max = X[:, 0].min() - .5, X[:, 0].max() + .5\n",
    "    y_min, y_max = X[:, 1].min() - .5, X[:, 1].max() + .5\n",
    "    h = 0.01\n",
    "    # Generate a grid of points with distance h between them\n",
    "    xx, yy = np.meshgrid(np.arange(x_min, x_max, h), np.arange(y_min, y_max, h))\n",
    "    # Predict the function value for the whole gid\n",
    "    Z = predict_multilayer(parameters, np.c_[xx.ravel(), yy.ravel()].T)\n",
    "    Z = Z.reshape(xx.shape)\n",
    "    # Plot the contour and training examples\n",
    "    plt.figure(figsize=(7,5))\n",
    "    plt.contourf(xx, yy, Z, cmap=plt.cm.Spectral)\n",
    "    \n",
    "    color= ['blue' if y == 1 else 'red' for y in np.squeeze(Y)]\n",
    "    plt.scatter(X[:,0], X[:,1], color=color)\n",
    "    \n",
    "    plt.show()"
   ]
  },
  {
   "cell_type": "code",
   "execution_count": 42,
   "metadata": {
    "scrolled": true
   },
   "outputs": [
    {
     "data": {
      "image/png": "[encoded data removed]",
      "text/plain": [
       "<Figure size 504x360 with 1 Axes>"
      ]
     },
     "metadata": {
      "needs_background": "light"
     },
     "output_type": "display_data"
    }
   ],
   "source": [
    "visualize_lr(parameters, X, Y)"
   ]
  },
  {
   "cell_type": "code",
   "execution_count": null,
   "metadata": {},
   "outputs": [],
   "source": []
  },
  {
   "cell_type": "code",
   "execution_count": null,
   "metadata": {},
   "outputs": [],
   "source": []
  }
 ],
 "metadata": {
  "kernelspec": {
   "display_name": "Python 2",
   "language": "python",
   "name": "python2"
  },
  "language_info": {
   "codemirror_mode": {
    "name": "ipython",
    "version": 2
   },
   "file_extension": ".py",
   "mimetype": "text/x-python",
   "name": "python",
   "nbconvert_exporter": "python",
   "pygments_lexer": "ipython2",
   "version": "2.7.15"
  }
 },
 "nbformat": 4,
 "nbformat_minor": 2
}
