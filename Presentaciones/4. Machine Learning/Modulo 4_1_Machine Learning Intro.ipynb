{
  "cells": [
    {
      "metadata": {},
      "cell_type": "markdown",
      "source": "<img src=\"res/itm_logo.jpg\" width=\"300px\">\n\n## Inteligencia Artificial - IAI84\n### Instituto Tecnológico Metropolitano\n#### Pedro Atencio Ortiz - 2018\n\n<br>\n\n## Agenda:\n1. Introducción.\n2. Tipos de problemas y datasets."
    },
    {
      "metadata": {},
      "cell_type": "markdown",
      "source": "<hr>\n\n# 1. Una aproximación inicial al Machine Learning\n\nLa aproximación clásica al desarrollo de una solucion reza lo siguiente:\n<br>\n<br>\n<br>\n<center><img src=\"res/intro/Classic Approach.png\" width=600></center>\n<br><br><br>\nAnalicemos el siguiente caso para una aplicación de reconocimiento de actividad:\n<br><br>\n<center><img src=\"res/intro/example_classic.png\" width=800></center>"
    },
    {
      "metadata": {},
      "cell_type": "markdown",
      "source": "<hr>\nLa aproximacion del aprendizaje de maquina reza:\n<br><br><br>\n<center><img src=\"res/intro/New Approach.png\" width=600></center>\n<br><br><br>\nAnalicemos el siguiente caso de reconocimiento de actividad:\n<br><br><br>\n<center><img src=\"res/intro/example_ml.png\" width=800></center>"
    },
    {
      "metadata": {},
      "cell_type": "markdown",
      "source": "<hr>\n\n## 1.1. Ejemplo utilizando Keras\n\nCuál es el patrón que siguen los siguientes datos?\n\n<center> <font size=5> $X = [-1, 0, 1, 2, 3, 4] \\\\ Y = [-3, -1, 1, 3, 5, 7]$ </font> </center>\n\n<br><br><br>\nHagamos que la máquina aprenda por nosotros el patrón subyacente en los datos:"
    },
    {
      "metadata": {
        "trusted": true
      },
      "cell_type": "code",
      "source": "import keras\nfrom keras.layers import Dense\n\nimport numpy as np\nimport matplotlib.pyplot as plt",
      "execution_count": 1,
      "outputs": [
        {
          "output_type": "stream",
          "text": "Using TensorFlow backend.\n",
          "name": "stderr"
        }
      ]
    },
    {
      "metadata": {
        "trusted": true
      },
      "cell_type": "code",
      "source": "X = np.array([-1,0,1,2,3,4], dtype=float)\nY = np.array([-3,-1,1,3,5,7], dtype=float)",
      "execution_count": 2,
      "outputs": []
    },
    {
      "metadata": {
        "trusted": true
      },
      "cell_type": "code",
      "source": "print(X)\nprint(Y)",
      "execution_count": 3,
      "outputs": [
        {
          "output_type": "stream",
          "text": "[-1.  0.  1.  2.  3.  4.]\n[-3. -1.  1.  3.  5.  7.]\n",
          "name": "stdout"
        }
      ]
    },
    {
      "metadata": {},
      "cell_type": "markdown",
      "source": "### 1.1.1 Creamos un modelo de red neuronal simple (1 neurona)"
    },
    {
      "metadata": {
        "trusted": true
      },
      "cell_type": "code",
      "source": "model = keras.Sequential()\nmodel.add(Dense(units=1, input_shape=[1]))",
      "execution_count": 4,
      "outputs": []
    },
    {
      "metadata": {},
      "cell_type": "markdown",
      "source": "### 1.1.2. Compilamos el modelo\n\nDefinimos el optimizador y el error a minimizar."
    },
    {
      "metadata": {
        "trusted": true
      },
      "cell_type": "code",
      "source": "model.compile(optimizer='sgd', loss='mean_squared_error')",
      "execution_count": 5,
      "outputs": []
    },
    {
      "metadata": {},
      "cell_type": "markdown",
      "source": "### 1.1.3. Entrenamiento\n\nHacemos que el modelo aprenda."
    },
    {
      "metadata": {
        "trusted": true
      },
      "cell_type": "code",
      "source": "history = model.fit(X, Y, epochs=500, verbose=False)",
      "execution_count": 6,
      "outputs": []
    },
    {
      "metadata": {
        "trusted": true
      },
      "cell_type": "code",
      "source": "plt.plot(history.history['loss'])\nplt.show()",
      "execution_count": 7,
      "outputs": [
        {
          "output_type": "display_data",
          "data": {
            "image/png": "[encoded data removed]",
            "text/plain": "<Figure size 432x288 with 1 Axes>"
          },
          "metadata": {
            "needs_background": "light"
          }
        }
      ]
    },
    {
      "metadata": {},
      "cell_type": "markdown",
      "source": "### 1.1.4. Utilizamos el modelo entrenado"
    },
    {
      "metadata": {
        "trusted": true
      },
      "cell_type": "code",
      "source": "model.predict([5])",
      "execution_count": 8,
      "outputs": [
        {
          "output_type": "execute_result",
          "execution_count": 8,
          "data": {
            "text/plain": "array([[8.994627]], dtype=float32)"
          },
          "metadata": {}
        }
      ]
    },
    {
      "metadata": {},
      "cell_type": "markdown",
      "source": "### 1.1.4. Qué aprendió el modelo???"
    },
    {
      "metadata": {
        "trusted": true
      },
      "cell_type": "code",
      "source": "model.get_weights()",
      "execution_count": 9,
      "outputs": [
        {
          "output_type": "execute_result",
          "execution_count": 9,
          "data": {
            "text/plain": "[array([[1.9971716]], dtype=float32), array([-0.99123126], dtype=float32)]"
          },
          "metadata": {}
        }
      ]
    },
    {
      "metadata": {},
      "cell_type": "markdown",
      "source": "<hr>\n\n## 1.2. Trabajemos en clase:\n\n### 1.2.1. Renta de apartamentos\nConstruyamos una red neuronal simple para el siguiente problema:\n\nImaginemos que el precio de alquiler de un apartamento viene dato por 500k + 150k por cuarto, por ejemplo, 650 mil pesos para un apartmento con un cuarto, 800 mil pesos para dos cuartos y así sucesivamente.\n\nCómo podríamos crear un modelo de red neuronal simple para que aprenda estas relaciones de tal forma que el sistema pueda predecir valores por fuera de lo que aprendió?.\n\n__Pista 1__: Estos modelos de aprendizaje funcionan mejor si los datos se escalan, es decir, en términos del resultado final es lo mismo que el sistema reciba el numero 2 (dos cuartos) y entregue como resultado 8 (de 800 mil) y luego se escale a cientos de miles. Sin embargo, para la red es mas facil trabajar con números pequeños o escalados.\n\n__Pista 2__: Si se cuentan con valores intermedios para la entrada, tales como 2.1, 1.4, 3.2, etc. el sistema aprenderá mejor.\n\n### 1.2.2. Función $y = x^2$\n\nGenere un conjunto de datos para la ecuación $y = x^2$ en intente hacer que el sistema aprenda dicha relación. Puede agregar mas capas y neuronas al modelo. Qué resultado obtiene?"
    },
    {
      "metadata": {},
      "cell_type": "markdown",
      "source": "<hr>\n\n# 2. Tipos de problemas y datasets\n\nUsualmente los problemas de predicción se dividen en dos categorías:\n\n1. __Clasificación__: En cuyo caso la salida del modelo es DISCRETA, es decir una etiquta o categoria que se asigna al objeto en cuestión.\n\n<center> $G(x) = k; k = \\{label_1, label_2, label_3,...,label_n\\}$ </center>\n\n2. __Regresión__: En cuyo caso la salida del modelo es CONTINUA, es decir, un valor real que estima a partir de la entrada.\n\n<center> $G(x) = k; k \\in R^n$ </center>\n\n<br>\n\nAnalicemos el siguiente dataset de la librería <a href=\"https://scikit-learn.org/stable/index.html\">sklearn</a>:\n\nscikit->machine learning: sklearn"
    },
    {
      "metadata": {
        "trusted": true
      },
      "cell_type": "code",
      "source": "from sklearn.datasets import load_boston, load_linnerud\n\nimport numpy as np\nfrom tabulate import tabulate",
      "execution_count": 10,
      "outputs": []
    },
    {
      "metadata": {
        "trusted": true
      },
      "cell_type": "code",
      "source": "??load_boston",
      "execution_count": 11,
      "outputs": []
    },
    {
      "metadata": {
        "trusted": true
      },
      "cell_type": "code",
      "source": "dataset = load_linnerud() #cargamos el dataset",
      "execution_count": 12,
      "outputs": []
    },
    {
      "metadata": {
        "trusted": true
      },
      "cell_type": "code",
      "source": "type(dataset)",
      "execution_count": 13,
      "outputs": [
        {
          "output_type": "execute_result",
          "execution_count": 13,
          "data": {
            "text/plain": "sklearn.utils.Bunch"
          },
          "metadata": {}
        }
      ]
    },
    {
      "metadata": {
        "trusted": true
      },
      "cell_type": "code",
      "source": "entrada = dataset.data #aislamos los valores de entrada del problema\nsalida = dataset.target #aislamos los valores de salida del problema",
      "execution_count": 14,
      "outputs": []
    },
    {
      "metadata": {
        "trusted": true
      },
      "cell_type": "code",
      "source": "print dataset.feature_names",
      "execution_count": 15,
      "outputs": [
        {
          "output_type": "stream",
          "text": "['Chins', 'Situps', 'Jumps']\n",
          "name": "stdout"
        }
      ]
    },
    {
      "metadata": {
        "trusted": true
      },
      "cell_type": "code",
      "source": "??load_linnerud",
      "execution_count": 16,
      "outputs": []
    },
    {
      "metadata": {
        "trusted": true
      },
      "cell_type": "code",
      "source": "#usualmente los datos se cargan de esta manera\n\nX, Y = dataset.data, dataset.target",
      "execution_count": 17,
      "outputs": []
    },
    {
      "metadata": {
        "trusted": true
      },
      "cell_type": "code",
      "source": "print(dataset.target_names)",
      "execution_count": 18,
      "outputs": [
        {
          "output_type": "stream",
          "text": "['Weight', 'Waist', 'Pulse']\n",
          "name": "stdout"
        }
      ]
    },
    {
      "metadata": {
        "trusted": true
      },
      "cell_type": "code",
      "source": "#concatenemos X y Y para poder tabularlos\nm, n = np.shape(X)\n\ndata = np.zeros([m, n+3])\n\ndata[:, 0:n] = X\ndata[:, n:n+3] = Y",
      "execution_count": 19,
      "outputs": []
    },
    {
      "metadata": {
        "trusted": true
      },
      "cell_type": "code",
      "source": "#headers = [\"x\"+str(i) for i in range(n)]+['y']\nheaders = list(dataset.feature_names)+list(dataset.target_names)\n\ntabla = tabulate(data, headers=headers, tablefmt=\"fancy_grid\", floatfmt=\".2f\")\nprint(tabla)",
      "execution_count": 20,
      "outputs": [
        {
          "output_type": "stream",
          "text": "╒═════════╤══════════╤═════════╤══════════╤═════════╤═════════╕\n│   Chins │   Situps │   Jumps │   Weight │   Waist │   Pulse │\n╞═════════╪══════════╪═════════╪══════════╪═════════╪═════════╡\n│    5.00 │   162.00 │   60.00 │   191.00 │   36.00 │   50.00 │\n├─────────┼──────────┼─────────┼──────────┼─────────┼─────────┤\n│    2.00 │   110.00 │   60.00 │   189.00 │   37.00 │   52.00 │\n├─────────┼──────────┼─────────┼──────────┼─────────┼─────────┤\n│   12.00 │   101.00 │  101.00 │   193.00 │   38.00 │   58.00 │\n├─────────┼──────────┼─────────┼──────────┼─────────┼─────────┤\n│   12.00 │   105.00 │   37.00 │   162.00 │   35.00 │   62.00 │\n├─────────┼──────────┼─────────┼──────────┼─────────┼─────────┤\n│   13.00 │   155.00 │   58.00 │   189.00 │   35.00 │   46.00 │\n├─────────┼──────────┼─────────┼──────────┼─────────┼─────────┤\n│    4.00 │   101.00 │   42.00 │   182.00 │   36.00 │   56.00 │\n├─────────┼──────────┼─────────┼──────────┼─────────┼─────────┤\n│    8.00 │   101.00 │   38.00 │   211.00 │   38.00 │   56.00 │\n├─────────┼──────────┼─────────┼──────────┼─────────┼─────────┤\n│    6.00 │   125.00 │   40.00 │   167.00 │   34.00 │   60.00 │\n├─────────┼──────────┼─────────┼──────────┼─────────┼─────────┤\n│   15.00 │   200.00 │   40.00 │   176.00 │   31.00 │   74.00 │\n├─────────┼──────────┼─────────┼──────────┼─────────┼─────────┤\n│   17.00 │   251.00 │  250.00 │   154.00 │   33.00 │   56.00 │\n├─────────┼──────────┼─────────┼──────────┼─────────┼─────────┤\n│   17.00 │   120.00 │   38.00 │   169.00 │   34.00 │   50.00 │\n├─────────┼──────────┼─────────┼──────────┼─────────┼─────────┤\n│   13.00 │   210.00 │  115.00 │   166.00 │   33.00 │   52.00 │\n├─────────┼──────────┼─────────┼──────────┼─────────┼─────────┤\n│   14.00 │   215.00 │  105.00 │   154.00 │   34.00 │   64.00 │\n├─────────┼──────────┼─────────┼──────────┼─────────┼─────────┤\n│    1.00 │    50.00 │   50.00 │   247.00 │   46.00 │   50.00 │\n├─────────┼──────────┼─────────┼──────────┼─────────┼─────────┤\n│    6.00 │    70.00 │   31.00 │   193.00 │   36.00 │   46.00 │\n├─────────┼──────────┼─────────┼──────────┼─────────┼─────────┤\n│   12.00 │   210.00 │  120.00 │   202.00 │   37.00 │   62.00 │\n├─────────┼──────────┼─────────┼──────────┼─────────┼─────────┤\n│    4.00 │    60.00 │   25.00 │   176.00 │   37.00 │   54.00 │\n├─────────┼──────────┼─────────┼──────────┼─────────┼─────────┤\n│   11.00 │   230.00 │   80.00 │   157.00 │   32.00 │   52.00 │\n├─────────┼──────────┼─────────┼──────────┼─────────┼─────────┤\n│   15.00 │   225.00 │   73.00 │   156.00 │   33.00 │   54.00 │\n├─────────┼──────────┼─────────┼──────────┼─────────┼─────────┤\n│    2.00 │   110.00 │   43.00 │   138.00 │   33.00 │   68.00 │\n╘═════════╧══════════╧═════════╧══════════╧═════════╧═════════╛\n",
          "name": "stdout"
        }
      ]
    },
    {
      "metadata": {},
      "cell_type": "markdown",
      "source": "<hr>\n\n## Trabajemos en clase\n\n1. Revisar la diferencia entre <a href=\"https://scikit-learn.org/stable/datasets/index.html#toy-datasets\">Toy Datasets</a> y <a href=\"https://scikit-learn.org/stable/datasets/index.html#real-world-datasets\">Real World Datasets</a>.\n\n2. Consultar algunos datasets de ambos casos y:\n    1. Revisar las entradas, salidas y tipo de problema en cada caso.\n    2. Tabular los datos.\n\n<center><a href=></a></center>"
    },
    {
      "metadata": {
        "trusted": true
      },
      "cell_type": "code",
      "source": "",
      "execution_count": null,
      "outputs": []
    }
  ],
  "metadata": {
    "kernelspec": {
      "name": "python2",
      "display_name": "Python 2",
      "language": "python"
    },
    "language_info": {
      "mimetype": "text/x-python",
      "nbconvert_exporter": "python",
      "name": "python",
      "pygments_lexer": "ipython2",
      "version": "2.7.15",
      "file_extension": ".py",
      "codemirror_mode": {
        "version": 2,
        "name": "ipython"
      }
    }
  },
  "nbformat": 4,
  "nbformat_minor": 2
}