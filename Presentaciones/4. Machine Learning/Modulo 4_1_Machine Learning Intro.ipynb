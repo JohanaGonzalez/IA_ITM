{
 "cells": [
  {
   "cell_type": "markdown",
   "metadata": {},
   "source": [
    "<img src=\"res/itm_logo.jpg\" width=\"300px\">\n",
    "\n",
    "## Inteligencia Artificial - IAI84\n",
    "### Instituto Tecnológico Metropolitano\n",
    "#### Pedro Atencio Ortiz - 2018\n",
    "\n",
    "<br>\n",
    "\n",
    "## Agenda:\n",
    "1. Introducción.\n",
    "2. Tipos de problemas y datasets."
   ]
  },
  {
   "cell_type": "markdown",
   "metadata": {},
   "source": [
    "<hr>\n",
    "\n",
    "# 1. Una aproximación inicial al Machine Learning\n",
    "\n",
    "La aproximación clásica al desarrollo de una solucion reza lo siguiente:\n",
    "<br>\n",
    "<br>\n",
    "<br>\n",
    "<center><img src=\"res/intro/Classic Approach.png\" width=600></center>\n",
    "<br><br><br>\n",
    "Analicemos el siguiente caso para una aplicación de reconocimiento de actividad:\n",
    "<br><br>\n",
    "<center><img src=\"res/intro/example_classic.png\" width=800></center>"
   ]
  },
  {
   "cell_type": "markdown",
   "metadata": {},
   "source": [
    "<hr>\n",
    "La aproximacion del aprendizaje de maquina reza:\n",
    "<br><br><br>\n",
    "<center><img src=\"res/intro/New Approach.png\" width=600></center>\n",
    "<br><br><br>\n",
    "Analicemos el siguiente caso de reconocimiento de actividad:\n",
    "<br><br><br>\n",
    "<center><img src=\"res/intro/example_ml.png\" width=800></center>"
   ]
  },
  {
   "cell_type": "markdown",
   "metadata": {},
   "source": [
    "<hr>\n",
    "\n",
    "## 1.1. Ejemplo utilizando Keras\n",
    "\n",
    "Cuál es el patrón que siguen los siguientes datos?\n",
    "\n",
    "<center> <font size=5> $X = [-1, 0, 1, 2, 3, 4] \\\\ Y = [-3, -1, 1, 3, 5, 7]$ </font> </center>\n",
    "\n",
    "<br><br><br>\n",
    "Hagamos que la máquina aprenda por nosotros el patrón subyacente en los datos:"
   ]
  },
  {
   "cell_type": "code",
   "execution_count": null,
   "metadata": {},
   "outputs": [],
   "source": [
    "import keras\n",
    "from keras.layers import Dense\n",
    "\n",
    "import numpy as np\n",
    "import matplotlib.pyplot as plt"
   ]
  },
  {
   "cell_type": "code",
   "execution_count": null,
   "metadata": {},
   "outputs": [],
   "source": [
    "X = np.array([-1,0,1,2,3,4], dtype=float)\n",
    "Y = np.array([-3,-1,1,3,5,7], dtype=float)"
   ]
  },
  {
   "cell_type": "code",
   "execution_count": null,
   "metadata": {},
   "outputs": [],
   "source": [
    "print(X)\n",
    "print(Y)"
   ]
  },
  {
   "cell_type": "markdown",
   "metadata": {},
   "source": [
    "### 1.1.1 Creamos un modelo de red neuronal simple (1 neurona)"
   ]
  },
  {
   "cell_type": "code",
   "execution_count": null,
   "metadata": {},
   "outputs": [],
   "source": [
    "model = keras.Sequential()\n",
    "model.add(Dense(units=1, input_shape=[1]))"
   ]
  },
  {
   "cell_type": "markdown",
   "metadata": {},
   "source": [
    "### 1.1.2. Compilamos el modelo\n",
    "\n",
    "Definimos el optimizador y el error a minimizar."
   ]
  },
  {
   "cell_type": "code",
   "execution_count": null,
   "metadata": {},
   "outputs": [],
   "source": [
    "model.compile(optimizer='sgd', loss='mean_squared_error')"
   ]
  },
  {
   "cell_type": "markdown",
   "metadata": {},
   "source": [
    "### 1.1.3. Entrenamiento\n",
    "\n",
    "Hacemos que el modelo aprenda."
   ]
  },
  {
   "cell_type": "code",
   "execution_count": null,
   "metadata": {},
   "outputs": [],
   "source": [
    "history = model.fit(X, Y, epochs=500, verbose=False)"
   ]
  },
  {
   "cell_type": "code",
   "execution_count": null,
   "metadata": {},
   "outputs": [],
   "source": [
    "plt.plot(history.history['loss'])\n",
    "plt.show()"
   ]
  },
  {
   "cell_type": "markdown",
   "metadata": {},
   "source": [
    "### 1.1.4. Utilizamos el modelo entrenado"
   ]
  },
  {
   "cell_type": "code",
   "execution_count": null,
   "metadata": {},
   "outputs": [],
   "source": [
    "model.predict([5])"
   ]
  },
  {
   "cell_type": "markdown",
   "metadata": {},
   "source": [
    "### 1.1.4. Qué aprendió el modelo???"
   ]
  },
  {
   "cell_type": "code",
   "execution_count": null,
   "metadata": {},
   "outputs": [],
   "source": [
    "model.get_weights()"
   ]
  },
  {
   "cell_type": "markdown",
   "metadata": {},
   "source": [
    "<hr>\n",
    "\n",
    "## 1.2. Trabajemos en clase:\n",
    "\n",
    "### 1.2.1. Renta de apartamentos\n",
    "Construyamos una red neuronal simple para el siguiente problema:\n",
    "\n",
    "Imaginemos que el precio de alquiler de un apartamento viene dato por 500k + 150k por cuarto, por ejemplo, 650 mil pesos para un apartmento con un cuarto, 800 mil pesos para dos cuartos y así sucesivamente.\n",
    "\n",
    "Cómo podríamos crear un modelo de red neuronal simple para que aprenda estas relaciones de tal forma que el sistema pueda predecir valores por fuera de lo que aprendió?.\n",
    "\n",
    "__Pista 1__: Estos modelos de aprendizaje funcionan mejor si los datos se escalan, es decir, en términos del resultado final es lo mismo que el sistema reciba el numero 2 (dos cuartos) y entregue como resultado 8 (de 800 mil) y luego se escale a cientos de miles. Sin embargo, para la red es mas facil trabajar con números pequeños o escalados.\n",
    "\n",
    "__Pista 2__: Si se cuentan con valores intermedios para la entrada, tales como 2.1, 1.4, 3.2, etc. el sistema aprenderá mejor.\n",
    "\n",
    "### 1.2.2. Función $y = x^2$\n",
    "\n",
    "Genere un conjunto de datos para la ecuación $y = x^2$ en intente hacer que el sistema aprenda dicha relación. Puede agregar mas capas y neuronas al modelo. Qué resultado obtiene?"
   ]
  },
  {
   "cell_type": "markdown",
   "metadata": {},
   "source": [
    "<hr>\n",
    "\n",
    "# 2. Tipos de problemas y datasets\n",
    "\n",
    "Usualmente los problemas de predicción se dividen en dos categorías:\n",
    "\n",
    "1. __Clasificación__: En cuyo caso la salida del modelo es DISCRETA, es decir una etiquta o categoria que se asigna al objeto en cuestión.\n",
    "\n",
    "<center> $G(x) = k; k = \\{label_1, label_2, label_3,...,label_n\\}$ </center>\n",
    "\n",
    "2. __Regresión__: En cuyo caso la salida del modelo es CONTINUA, es decir, un valor real que estima a partir de la entrada.\n",
    "\n",
    "<center> $G(x) = k; k \\in R^n$ </center>\n",
    "\n",
    "<br>\n",
    "\n",
    "Analicemos el siguiente dataset de la librería <a href=https://scikit-learn.org/stable/index.html>sklearn</a>:"
   ]
  },
  {
   "cell_type": "code",
   "execution_count": null,
   "metadata": {},
   "outputs": [],
   "source": [
    "from sklearn.datasets import load_boston"
   ]
  },
  {
   "cell_type": "code",
   "execution_count": null,
   "metadata": {},
   "outputs": [],
   "source": [
    "??load_boston"
   ]
  },
  {
   "cell_type": "code",
   "execution_count": null,
   "metadata": {},
   "outputs": [],
   "source": [
    "from tabulate import tabulate"
   ]
  },
  {
   "cell_type": "code",
   "execution_count": null,
   "metadata": {},
   "outputs": [],
   "source": [
    "dataset = load_boston() #cargamos el dataset"
   ]
  },
  {
   "cell_type": "code",
   "execution_count": null,
   "metadata": {},
   "outputs": [],
   "source": [
    "entrada = dataset.data #aislamos los valores de entrada del problema\n",
    "salida = dataset.target #aislamos los valores de salida del problema"
   ]
  },
  {
   "cell_type": "code",
   "execution_count": null,
   "metadata": {},
   "outputs": [],
   "source": [
    "#usualmente los datos se cargan de esta manera\n",
    "\n",
    "X, Y = dataset.data, dataset.target"
   ]
  },
  {
   "cell_type": "code",
   "execution_count": null,
   "metadata": {},
   "outputs": [],
   "source": [
    "#concatenemos X y Y para poder tabularlos\n",
    "m, n = np.shape(X)\n",
    "\n",
    "data = np.zeros([m, n+1])\n",
    "\n",
    "data[:, 0:n] = X\n",
    "data[:, n] = Y"
   ]
  },
  {
   "cell_type": "code",
   "execution_count": null,
   "metadata": {},
   "outputs": [],
   "source": [
    "headers = [\"x\"+str(i) for i in range(n)]+['y']\n",
    "\n",
    "tabla = tabulate(data, headers=headers, tablefmt=\"fancy_grid\", floatfmt=\".2f\")\n",
    "print(tabla)"
   ]
  },
  {
   "cell_type": "markdown",
   "metadata": {},
   "source": [
    "<hr>\n",
    "\n",
    "## Trabajemos en clase\n",
    "\n",
    "1. Revisar la diferencia entre <a href=\"https://scikit-learn.org/stable/datasets/index.html#toy-datasets\">Toy Datasets</a> y <a href=\"https://scikit-learn.org/stable/datasets/index.html#real-world-datasets\">Real World Datasets</a>.\n",
    "\n",
    "2. Consultar algunos datasets de ambos casos y:\n",
    "    1. Revisar las entradas, salidas y tipo de problema en cada caso.\n",
    "    2. Tabular los datos.\n",
    "\n",
    "<center><a href=></a></center>"
   ]
  },
  {
   "cell_type": "code",
   "execution_count": null,
   "metadata": {},
   "outputs": [],
   "source": []
  }
 ],
 "metadata": {
  "kernelspec": {
   "display_name": "Python 2",
   "language": "python",
   "name": "python2"
  },
  "language_info": {
   "codemirror_mode": {
    "name": "ipython",
    "version": 2
   },
   "file_extension": ".py",
   "mimetype": "text/x-python",
   "name": "python",
   "nbconvert_exporter": "python",
   "pygments_lexer": "ipython2",
   "version": "2.7.15"
  }
 },
 "nbformat": 4,
 "nbformat_minor": 2
}
