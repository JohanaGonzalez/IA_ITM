{
 "cells": [
  {
   "cell_type": "code",
   "execution_count": null,
   "metadata": {},
   "outputs": [],
   "source": [
    "import numpy as np\n",
    "import matplotlib.pyplot as plt"
   ]
  },
  {
   "cell_type": "code",
   "execution_count": null,
   "metadata": {},
   "outputs": [],
   "source": [
    "m = 100\n",
    "X = 2 * np.random.rand(m,1)\n",
    "Y = 4 + 3*X + np.random.randn(m,1)"
   ]
  },
  {
   "cell_type": "code",
   "execution_count": null,
   "metadata": {},
   "outputs": [],
   "source": [
    "plt.scatter(X, Y, color='red')\n",
    "plt.show()"
   ]
  },
  {
   "cell_type": "markdown",
   "metadata": {},
   "source": [
    "La regresión lineal permite encontrar un valor $a$ y un valor $b$ tal que la linea que define la siguiente ecuación, minimiza la distancia de todos los datos respecto a la misma.\n",
    "\n",
    "<center><font size=5>$y = aX+b$</font></center>\n",
    "\n",
    "La solución exacta o ecuación normal de la regresión lineal es la siguiente:\n",
    "\n",
    "<center><font size=5>$X = [1, X]$</font></center>\n",
    "<center><font size=5>$\\theta = [b, a] = (X^T \\cdot X)^{-1} \\cdot X^T \\cdot Y $</font></center>\n",
    "\n",
    "Es decir, encontrando $r$ encontramos los valores de $a$ y $b$ que resuelven el problema de ajuste lineal."
   ]
  },
  {
   "cell_type": "code",
   "execution_count": null,
   "metadata": {},
   "outputs": [],
   "source": [
    "X_b = np.c_[np.ones((m,1)), X] #X with bias\n",
    "theta = np.linalg.inv(X_b.T.dot(X_b)).dot(X_b.T).dot(Y)"
   ]
  },
  {
   "cell_type": "code",
   "execution_count": null,
   "metadata": {},
   "outputs": [],
   "source": [
    "print theta"
   ]
  },
  {
   "cell_type": "code",
   "execution_count": null,
   "metadata": {},
   "outputs": [],
   "source": [
    "x = np.array([[0], [2]])\n",
    "y_solution = theta[1]*x + theta[0]\n",
    "\n",
    "\n",
    "###En forma vectorizada\n",
    "#x = np.array([[0], [2]])\n",
    "#x_b = np.c_[np.ones((2, 1)), x]\n",
    "#y_solution = x_b.dot(theta)\n",
    "\n",
    "print y_solution"
   ]
  },
  {
   "cell_type": "code",
   "execution_count": null,
   "metadata": {},
   "outputs": [],
   "source": [
    "plt.scatter(X, Y, color='red')\n",
    "plt.plot(x, y_solution)\n",
    "plt.show()"
   ]
  },
  {
   "cell_type": "markdown",
   "metadata": {},
   "source": [
    "<hr>\n",
    "<h2> Implementemos el ejemplo anterior mediante descenso del gradiente </h2>"
   ]
  },
  {
   "cell_type": "code",
   "execution_count": null,
   "metadata": {},
   "outputs": [],
   "source": [
    "#m = 100\n",
    "#X = 2 * np.random.rand(m,1)\n",
    "#Y = 4 + 3*X + np.random.randn(m,1)\n",
    "\n",
    "plt.scatter(X, Y, color='red')\n",
    "plt.show()"
   ]
  },
  {
   "cell_type": "code",
   "execution_count": null,
   "metadata": {},
   "outputs": [],
   "source": [
    "def mse(a, y):\n",
    "    return np.mean(np.sum(a - y)**2)"
   ]
  },
  {
   "cell_type": "code",
   "execution_count": null,
   "metadata": {},
   "outputs": [],
   "source": [
    "X_new = X.T\n",
    "Y_new = Y.T\n",
    "\n",
    "print X.shape"
   ]
  },
  {
   "cell_type": "code",
   "execution_count": null,
   "metadata": {},
   "outputs": [],
   "source": [
    "W = np.random.random([1, X.shape[1]])\n",
    "b = np.array([[0]])"
   ]
  },
  {
   "cell_type": "code",
   "execution_count": null,
   "metadata": {},
   "outputs": [],
   "source": [
    "alpha = 0.05\n",
    "epochs = 1000\n",
    "\n",
    "cost_list = []\n",
    "\n",
    "for i in range(epochs):\n",
    "    A = W.T.dot(X_new) + b\n",
    "    \n",
    "    dz = A - Y_new\n",
    "    dW = np.dot(X_new, dz.T) / m \n",
    "    db = np.sum(dz) / m\n",
    "    \n",
    "    W = W - alpha * dW\n",
    "    b = b - alpha * db\n",
    "    \n",
    "    if(i % 100 == 0):\n",
    "        cost = mse(A, Y_new)\n",
    "        print \"Cost: \", cost\n",
    "        cost_list.append(cost)\n",
    "\n",
    "plt.plot(cost_list)\n",
    "plt.show()"
   ]
  },
  {
   "cell_type": "code",
   "execution_count": null,
   "metadata": {},
   "outputs": [],
   "source": [
    "print W,b"
   ]
  },
  {
   "cell_type": "code",
   "execution_count": null,
   "metadata": {},
   "outputs": [],
   "source": [
    "x = np.array([[0, 2]])\n",
    "y_solution = W.T.dot(x) + b\n",
    "\n",
    "print y_solution\n",
    "\n",
    "plt.scatter(X, Y, color='red')\n",
    "plt.plot(x.T, y_solution.T)\n",
    "plt.show()"
   ]
  },
  {
   "cell_type": "code",
   "execution_count": null,
   "metadata": {},
   "outputs": [],
   "source": []
  }
 ],
 "metadata": {
  "kernelspec": {
   "display_name": "Python 2",
   "language": "python",
   "name": "python2"
  },
  "language_info": {
   "codemirror_mode": {
    "name": "ipython",
    "version": 2
   },
   "file_extension": ".py",
   "mimetype": "text/x-python",
   "name": "python",
   "nbconvert_exporter": "python",
   "pygments_lexer": "ipython2",
   "version": "2.7.15"
  }
 },
 "nbformat": 4,
 "nbformat_minor": 2
}
