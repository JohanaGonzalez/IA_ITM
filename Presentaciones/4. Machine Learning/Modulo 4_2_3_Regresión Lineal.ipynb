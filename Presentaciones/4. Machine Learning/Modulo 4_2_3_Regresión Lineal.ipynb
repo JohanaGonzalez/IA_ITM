{
 "cells": [
  {
   "cell_type": "markdown",
   "metadata": {},
   "source": [
    "<img src=\"res/itm_logo.jpg\" width=\"300px\">\n",
    "\n",
    "## Inteligencia Artificial - IAI84\n",
    "### Instituto Tecnológico Metropolitano\n",
    "#### Pedro Atencio Ortiz - 2019\n",
    "\n",
    "\n",
    "En este notebook se abordan los temas:\n",
    "\n",
    "- Regresión lineal.\n",
    "- Descenso del gradiente."
   ]
  },
  {
   "cell_type": "code",
   "execution_count": null,
   "metadata": {},
   "outputs": [],
   "source": [
    "import numpy as np\n",
    "import matplotlib.pyplot as plt"
   ]
  },
  {
   "cell_type": "markdown",
   "metadata": {},
   "source": [
    "Un modelo lineal se define como: <font size=\"5\">$Y = WX+b$</font>"
   ]
  },
  {
   "cell_type": "code",
   "execution_count": null,
   "metadata": {},
   "outputs": [],
   "source": [
    "np.random.seed(2) #aseguramos que el resultado del random es el mismo en cada ejecucion\n",
    "\n",
    "m = 100\n",
    "X = 2 * np.random.rand(m,1)\n",
    "\n",
    "W = np.random.randint(3,8)+np.random.rand()\n",
    "b = np.random.randint(3,8)+np.random.rand()\n",
    "\n",
    "Y = W * X + b  #regresor lineal\n",
    "\n",
    "Y = Y + np.random.randn(m,1) #ruido"
   ]
  },
  {
   "cell_type": "code",
   "execution_count": null,
   "metadata": {},
   "outputs": [],
   "source": [
    "print b"
   ]
  },
  {
   "cell_type": "code",
   "execution_count": null,
   "metadata": {},
   "outputs": [],
   "source": [
    "plt.scatter(X, Y, color='red')\n",
    "plt.xlabel(\"x\", fontsize=15)\n",
    "plt.ylabel(\"y\", fontsize=15)\n",
    "plt.show()"
   ]
  },
  {
   "cell_type": "markdown",
   "metadata": {},
   "source": [
    "La regresión lineal consiste en hallar los valores de $W$ y $b$ tales que definan una recta que se acerque lo mejor posible a los valores originales de $Y$ dados los $X$ de entrada.\n",
    "\n",
    "En este punto, podemos adivinar dichos valores?"
   ]
  },
  {
   "cell_type": "code",
   "execution_count": null,
   "metadata": {},
   "outputs": [],
   "source": [
    "W = None\n",
    "b = None\n",
    "\n",
    "Y_pred = W * X + b\n",
    "\n",
    "plt.scatter(X, Y, color='red')\n",
    "plt.plot(X, Y_pred)\n",
    "\n",
    "plt.xlabel(\"x\", fontsize=15)\n",
    "plt.ylabel(\"y\", fontsize=15)\n",
    "plt.show()"
   ]
  },
  {
   "cell_type": "markdown",
   "metadata": {},
   "source": [
    "La regresión lineal permite encontrar un valor $a$ y un valor $b$ tal que la linea que define la siguiente ecuación, minimiza la distancia de todos los datos respecto a la misma.\n",
    "\n",
    "<center><font size=5>$y = aX+b$</font></center>\n",
    "\n",
    "La solución exacta o ecuación normal de la regresión lineal es la siguiente:\n",
    "\n",
    "<center><font size=5>$X = [1, X]$</font></center>\n",
    "<center><font size=5>$\\theta = [b, a] = (X^T \\cdot X)^{-1} \\cdot X^T \\cdot Y $</font></center>\n",
    "\n",
    "Es decir, encontrando $r$ encontramos los valores de $a$ y $b$ que resuelven el problema de ajuste lineal."
   ]
  },
  {
   "cell_type": "code",
   "execution_count": null,
   "metadata": {},
   "outputs": [],
   "source": [
    "X_b = np.c_[np.ones((m,1)), X] #X with bias\n",
    "#theta = np.linalg.inv(X_b.T.dot(X_b)).dot(X_b.T).dot(Y)\n",
    "theta = None"
   ]
  },
  {
   "cell_type": "code",
   "execution_count": null,
   "metadata": {},
   "outputs": [],
   "source": [
    "print theta"
   ]
  },
  {
   "cell_type": "code",
   "execution_count": null,
   "metadata": {},
   "outputs": [],
   "source": [
    "#Ejemplo de prediccion para dos datos del conjunto\n",
    "\n",
    "x = np.array([[0], [2]])\n",
    "y_solution = theta[1]*x + theta[0]\n",
    "\n",
    "\n",
    "###En forma vectorizada\n",
    "#x = np.array([[0], [2]])\n",
    "#x_b = np.c_[np.ones((2, 1)), x]\n",
    "#y_solution = x_b.dot(theta)\n",
    "\n",
    "print y_solution"
   ]
  },
  {
   "cell_type": "code",
   "execution_count": null,
   "metadata": {},
   "outputs": [],
   "source": [
    "plt.scatter(X, Y, color='red')\n",
    "plt.plot(x, y_solution)\n",
    "plt.show()"
   ]
  },
  {
   "cell_type": "markdown",
   "metadata": {},
   "source": [
    "<hr>\n",
    "<h2> Implementemos el ejemplo anterior mediante descenso del gradiente </h2>"
   ]
  },
  {
   "cell_type": "markdown",
   "metadata": {},
   "source": [
    "El algoritmo del descenso del gradiente se basa en minimizar una función de error $g(x)$ utilizando las derivadas de los parámetros del modelo respecto a dicha función. Sea $\\theta$ un conjunto de parámetros, $X$ un conjunto de elementos de entrada y $Y$ un conjunto de elementos de salida:\n",
    "\n",
    "$\n",
    "\\\\\n",
    "repeat\\{\n",
    "\\\\\n",
    "\\hspace{10mm} Y_{pred} = f(x) = \\theta X\n",
    "\\\\\n",
    "\\hspace{10mm} e = g(Y, Y_{pred})\n",
    "\\\\\n",
    "\\hspace{10mm} d \\theta = \\frac{de}{d \\theta}\n",
    "\\\\\n",
    "\\hspace{10mm} \\theta = \\theta - d \\theta\n",
    "\\\\\n",
    "\\}\n",
    "$\n",
    "\n",
    "### Analicemos\n",
    "Que pasa con la linea $\\theta = \\alpha - d \\theta$ cuando $d \\theta$ es muy grande?\n",
    "\n",
    "<hr>\n",
    "Algoritmo del gradiente con tasa de apredizaje:\n",
    "\n",
    "$\n",
    "\\\\\n",
    "repeat\\{\n",
    "\\\\\n",
    "\\hspace{10mm} Y_{pred} = f(x) = \\theta X\n",
    "\\\\\n",
    "\\hspace{10mm} e = g(Y, Y_{pred})\n",
    "\\\\\n",
    "\\hspace{10mm} d \\theta = \\frac{de}{d \\theta}\n",
    "\\\\\n",
    "\\hspace{10mm} \\theta = \\theta - \\alpha d \\theta\n",
    "\\\\\n",
    "\\}\n",
    "$"
   ]
  },
  {
   "cell_type": "code",
   "execution_count": null,
   "metadata": {},
   "outputs": [],
   "source": [
    "X_new = X.T\n",
    "Y_new = Y.T\n",
    "\n",
    "print X.shape"
   ]
  },
  {
   "cell_type": "markdown",
   "metadata": {},
   "source": [
    "# Implementación per-data"
   ]
  },
  {
   "cell_type": "code",
   "execution_count": null,
   "metadata": {},
   "outputs": [],
   "source": [
    "np.random.seed(2)\n",
    "\n",
    "W = np.random.random()\n",
    "b = 0\n",
    "\n",
    "print(W, b)"
   ]
  },
  {
   "cell_type": "code",
   "execution_count": null,
   "metadata": {},
   "outputs": [],
   "source": [
    "alpha = 0.05\n",
    "epochs = 1000\n",
    "\n",
    "cost_list = []\n",
    "\n",
    "m = X_new.shape[1] #numero de datos en el dataset\n",
    "\n",
    "for epoca in range(epochs): #numero de veces que se repite el descenso del gradiente\n",
    "    dW = 0\n",
    "    db = 0\n",
    "    \n",
    "    cost = 0\n",
    "    \n",
    "    for i in range(m):\n",
    "        Ai = W * X_new[0,i] + b\n",
    "\n",
    "        dz = Ai - Y_new[0,i]\n",
    "        dW += dz * X_new[0, i] \n",
    "        db += dz\n",
    "        \n",
    "        cost += (Ai - Y_new[0, i])**2\n",
    "        \n",
    "    #promedio de las derivadas\n",
    "    dW = dW / m\n",
    "    db = db / m\n",
    "    \n",
    "    #promedio del costo\n",
    "    cost = cost / m\n",
    "    \n",
    "    #actualizacion\n",
    "    W = W - alpha * dW\n",
    "    b = b - alpha * db\n",
    "    \n",
    "    if(epoca % 100 == 0): #imprimir cada 100 epocas\n",
    "        \n",
    "        print \"Cost: \", cost\n",
    "        cost_list.append(cost)\n",
    "\n",
    "plt.plot(cost_list)\n",
    "plt.show()"
   ]
  },
  {
   "cell_type": "code",
   "execution_count": null,
   "metadata": {},
   "outputs": [],
   "source": [
    "print(W, b)"
   ]
  },
  {
   "cell_type": "code",
   "execution_count": null,
   "metadata": {},
   "outputs": [],
   "source": [
    "y_solution = W * X + b #prediccion\n",
    "\n",
    "plt.scatter(X, Y, color='red')\n",
    "plt.plot(X, y_solution)\n",
    "plt.show()"
   ]
  },
  {
   "cell_type": "markdown",
   "metadata": {},
   "source": [
    "# Implementación Vectorizada"
   ]
  },
  {
   "cell_type": "code",
   "execution_count": null,
   "metadata": {},
   "outputs": [],
   "source": [
    "#Funcion de error: error medio cuadrado\n",
    "def mse(a, y):\n",
    "    m = y.shape[1]\n",
    "    return np.sum((a - y)**2) / m"
   ]
  },
  {
   "cell_type": "code",
   "execution_count": null,
   "metadata": {},
   "outputs": [],
   "source": [
    "np.random.seed(2)\n",
    "\n",
    "W = np.random.random([1, X.shape[1]])\n",
    "b = np.array([[0]])\n",
    "\n",
    "print(W, b)"
   ]
  },
  {
   "cell_type": "code",
   "execution_count": null,
   "metadata": {},
   "outputs": [],
   "source": [
    "alpha = 0.05\n",
    "epochs = 1000\n",
    "\n",
    "cost_list = []\n",
    "\n",
    "for epoca in range(epochs):\n",
    "    A = W.T.dot(X_new) + b\n",
    "    \n",
    "    dz = A - Y_new\n",
    "    dW = np.dot(X_new, dz.T) / m \n",
    "    db = np.sum(dz) / m\n",
    "    \n",
    "    W = W - alpha * dW\n",
    "    b = b - alpha * db\n",
    "    \n",
    "    if(epoca % 100 == 0):\n",
    "        cost = mse(A, Y_new)\n",
    "        print \"Cost: \", cost\n",
    "        cost_list.append(cost)\n",
    "\n",
    "plt.plot(cost_list)\n",
    "plt.show()"
   ]
  },
  {
   "cell_type": "code",
   "execution_count": null,
   "metadata": {},
   "outputs": [],
   "source": [
    "print W,b"
   ]
  },
  {
   "cell_type": "code",
   "execution_count": null,
   "metadata": {},
   "outputs": [],
   "source": [
    "y_solution = W.T.dot(X_new) + b\n",
    "\n",
    "plt.scatter(X, Y, color='red')\n",
    "plt.plot(X, y_solution.T)\n",
    "plt.show()"
   ]
  },
  {
   "cell_type": "code",
   "execution_count": null,
   "metadata": {},
   "outputs": [],
   "source": []
  }
 ],
 "metadata": {
  "kernelspec": {
   "display_name": "Python 2",
   "language": "python",
   "name": "python2"
  },
  "language_info": {
   "codemirror_mode": {
    "name": "ipython",
    "version": 2
   },
   "file_extension": ".py",
   "mimetype": "text/x-python",
   "name": "python",
   "nbconvert_exporter": "python",
   "pygments_lexer": "ipython2",
   "version": "2.7.15"
  }
 },
 "nbformat": 4,
 "nbformat_minor": 2
}
