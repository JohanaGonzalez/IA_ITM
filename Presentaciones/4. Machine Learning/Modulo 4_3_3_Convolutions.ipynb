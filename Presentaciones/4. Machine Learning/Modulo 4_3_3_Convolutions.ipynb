{
  "cells": [
    {
      "metadata": {},
      "cell_type": "markdown",
      "source": "<img src=\"res/itm_logo.jpg\" width=\"300px\">\n\n## Inteligencia Artificial - IAI84\n### Instituto Tecnológico Metropolitano\n#### Pedro Atencio Ortiz - 2019\n\nEn este notebook aplicamos una red Convolutiva neuronal en Keras a un dataset de clasificación."
    },
    {
      "metadata": {
        "trusted": true
      },
      "cell_type": "code",
      "source": "import numpy as np\nimport matplotlib.pyplot as plt\nimport tensorflow as tf\nimport keras",
      "execution_count": null,
      "outputs": []
    },
    {
      "metadata": {
        "trusted": true
      },
      "cell_type": "code",
      "source": "mnist = keras.datasets.fashion_mnist",
      "execution_count": null,
      "outputs": []
    },
    {
      "metadata": {
        "trusted": true
      },
      "cell_type": "code",
      "source": "(training_images, training_labels), (test_images, test_labels) = mnist.load_data()\nprint(training_images.shape)\nprint(training_labels.shape)\nprint(\"Categorias del dataset: \",np.unique(training_labels))",
      "execution_count": null,
      "outputs": []
    },
    {
      "metadata": {
        "trusted": true
      },
      "cell_type": "code",
      "source": "#Despleguemos ejemplos del dataset por categoria\n\nfig = plt.figure(figsize=(10,5))\nfig.suptitle(\"Categorias del dataset Fashion MNIST\")\nplt.subplots_adjust(wspace=0.5)\n\nfor j in range(10): #10 categorias\n    for i in range(10000): #60000 ejemplos en el dataset de prueba\n        if(test_labels[i] == j):\n            plt.subplot(2,5,j+1)\n            plt.title(\"Categoria: \"+str(j))\n            plt.imshow(test_images[i], cmap='gray')\n            break\nplt.show()",
      "execution_count": null,
      "outputs": []
    },
    {
      "metadata": {},
      "cell_type": "markdown",
      "source": "<hr>\n\n## Convolution\n\nUna convolucion es una operacion que consiste en \"aplicar\" un filtro $k$ sobre una imagen $I$, donde el filtro $k$ es una matriz de menor tamanio que la imagen $I$. La convolucion se define como:\n\n<br>\n\n<center>\n    <font size=\"5\">\n        \n    $G(x,y) = k * I(x,y) = \\sum^{a}_{s=-a}\\sum^{b}_{t=-b}{k(s,t)*I(x-s, y-t)}$\n   \n   </font>\n</center>"
    },
    {
      "metadata": {
        "trusted": true
      },
      "cell_type": "code",
      "source": "from scipy import signal\n\nk1 = np.array([[-1,-1,-1],[0,0,0],[1,1,1]])\nk2 = k1.T\n\nI = training_images[np.random.randint(0,60000)]\nG1 = signal.correlate2d(I,k1)\nG2 = signal.correlate2d(I,k2)\n\n\nplt.figure(figsize=(10,7))\n\nplt.subplot(231)\nplt.imshow(I, cmap='gray')\nplt.subplot(232)\nplt.imshow(k1, cmap='gray')\nplt.subplot(233)\nplt.imshow(G1, cmap='gray')\n\nplt.subplot(234)\nplt.imshow(I, cmap='gray')\nplt.subplot(235)\nplt.imshow(k2, cmap='gray')\nplt.subplot(236)\nplt.imshow(G2, cmap='gray')\n\nplt.show()",
      "execution_count": null,
      "outputs": []
    },
    {
      "metadata": {},
      "cell_type": "markdown",
      "source": "Si finalmente los valores de los filtros $k$ son reales, una red neuronal podria aprenderlos como los pesos $W$ de una capa Dense. El objetivo de la convolucion dentro de una red neuronal consiste en FRACCIONAR la imagen en sus partes constituyentes y aprender QUE elementos hacen que un objeto sea de una u otra categoria.\n\n\n<img src=\"https://adeshpande3.github.io/assets/Cover.png\">\n<center> Tomada de: https://adeshpande3.github.io/assets/Cover.png</center>"
    },
    {
      "metadata": {},
      "cell_type": "markdown",
      "source": "## Max Pooling\n\nEsta operacion tiene como objetivo reducir el tamanio de la senial a traves de la red neuronal de tal forma que las ultimas capas reciban una version de menor tamanio de la senial de las capas anteriores. De esta forma, se reduce el costo computacional del proceso de entrenamiento."
    },
    {
      "metadata": {
        "trusted": true
      },
      "cell_type": "code",
      "source": "def maxpooling(I, kernel_size):\n    M, N = I.shape\n    K = kernel_size #tamanio del pooling\n\n    MK = M // K\n    NL = N // K\n\n    G = I[:MK*K, :NL*K].reshape(MK, K, NL, K).max(axis=(1, 3)) #maxpooling\n    \n    return G",
      "execution_count": null,
      "outputs": []
    },
    {
      "metadata": {
        "trusted": true
      },
      "cell_type": "code",
      "source": "max_G1 = maxpooling(G1, 2)\n\nplt.subplot(121)\nplt.imshow(G1, cmap='gray')\n\nplt.subplot(122)\nplt.imshow(max_G1, cmap='gray')\nplt.show()",
      "execution_count": null,
      "outputs": []
    },
    {
      "metadata": {},
      "cell_type": "markdown",
      "source": "<hr>\n\n## Implementemos una red convolutiva en Keras"
    },
    {
      "metadata": {
        "trusted": true
      },
      "cell_type": "code",
      "source": "model = keras.Sequential()\n\nmodel.add(keras.layers.Convolution2D(32, (3,3), activation='relu', input_shape=(28, 28, 1))) #capa convolutiva\nmodel.add(keras.layers.MaxPooling2D(2,2))\nmodel.add(keras.layers.Flatten())\nmodel.add(keras.layers.Dense(units=128, activation='relu'))\nmodel.add(keras.layers.Dense(units=10, activation=tf.nn.softmax))",
      "execution_count": null,
      "outputs": []
    },
    {
      "metadata": {
        "trusted": true
      },
      "cell_type": "code",
      "source": "model.summary()",
      "execution_count": null,
      "outputs": []
    },
    {
      "metadata": {
        "trusted": true
      },
      "cell_type": "code",
      "source": "(training_images, training_labels), (test_images, test_labels) = mnist.load_data()\nprint(training_images.shape)\nprint(training_labels.shape)\nprint(\"Categorias del dataset: \",np.unique(training_labels))\n\n\ntraining_images =  training_images / 255.0\ntest_images = test_images / 255.0\n\ntraining_images = training_images.reshape(60000,28, 28,1)\ntest_images = test_images.reshape(10000,28, 28,1)",
      "execution_count": null,
      "outputs": []
    },
    {
      "metadata": {
        "trusted": true
      },
      "cell_type": "code",
      "source": "model.compile(optimizer='adam',\n              loss='sparse_categorical_crossentropy',\n              metrics=['accuracy'])\n\nmodel.fit(training_images, training_labels, epochs=5)\nmodel.evaluate(test_images, test_labels)",
      "execution_count": null,
      "outputs": []
    },
    {
      "metadata": {},
      "cell_type": "markdown",
      "source": "<hr>\n\n## Trabajemos\n\n1. Intenta editar las convoluciones. Cambiar las 32 a 16 o 64. Que impacto tiene esto en el tiempo de entrenamiento y la precision del modelo?.\n2. Agregar una segunda capa de convolucion y una de maxpooling. Que impacto tiene esto en el tiempo de entrenamiento y la precision del modelo?"
    },
    {
      "metadata": {
        "trusted": true
      },
      "cell_type": "code",
      "source": "",
      "execution_count": null,
      "outputs": []
    }
  ],
  "metadata": {
    "kernelspec": {
      "name": "python2",
      "display_name": "Python 2",
      "language": "python"
    },
    "language_info": {
      "mimetype": "text/x-python",
      "nbconvert_exporter": "python",
      "name": "python",
      "pygments_lexer": "ipython2",
      "version": "2.7.15",
      "file_extension": ".py",
      "codemirror_mode": {
        "version": 2,
        "name": "ipython"
      }
    }
  },
  "nbformat": 4,
  "nbformat_minor": 2
}