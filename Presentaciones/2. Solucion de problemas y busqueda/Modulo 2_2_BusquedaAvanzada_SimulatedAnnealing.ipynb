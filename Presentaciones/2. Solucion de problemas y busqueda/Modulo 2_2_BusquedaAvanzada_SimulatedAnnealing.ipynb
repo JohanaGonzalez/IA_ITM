{
  "cells": [
    {
      "metadata": {},
      "cell_type": "markdown",
      "source": "<img src=\"res/itm_logo.jpg\" width=\"300px\">\n\n## Inteligencia Artificial - IAI84\n### Instituto Tecnológico Metropolitano\n#### Pedro Atencio Ortiz - 2019\n\nEste material ha sido construido utilizando material de los libros:\n<ul>\n    <li>Artificial Intelligence: A modern approach.</li>\n    <li>Artificial Intelligence: Foundations of Computational Agents. Second Edition. (<a href=\"http://artint.info/2e/html/ArtInt2e.html\">link</a>).</li>\n</ul>"
    },
    {
      "metadata": {},
      "cell_type": "markdown",
      "source": "<hr>\n## Módulo 2.2: Búsqueda...más allá de la aproximación clásica\n<img src=\"res/problem_solving.gif\" width=\"400px\">\n## Agenda:\n<font size=\"4\">\n<ol>\n<li><b>Búsqueda y problemas de optimización</b></li>\n<li><b>Simulated Annealing</b></li>\n<li>Algoritmos bio-inspirados: algoritmos genéticos</li>\n</ol>\n</font>"
    },
    {
      "metadata": {},
      "cell_type": "markdown",
      "source": "<hr>\n# 1. Búsqueda y problemas de optimización\n<ul>\n    <li>Un problema de optimización se puede entender como un problema de búsqueda con restricciones.</li>\n    <li>A diferencia de la búsqueda tradicional que considera un estado objetivo, la optimización considera una serie de restricciones.</li>\n    <li>En la optimización se hace una búsqueda en el espacio de parámetros del problem, tal que maximicen o minimicen una función.</li>\n</ul>\n<br>\n<img src=\"res/more/sum_of_gaussians.png\" width=\"400\">"
    },
    {
      "metadata": {},
      "cell_type": "markdown",
      "source": "<hr>\n# 2. Simulated Annealing\nEs una técnica de búsqueda inspirada en el estudio del recocido y enfriamiento de materiales.\n\nLas propiedades estructurales de un sólido dependen de la tasa de enfriamiento después de que el sólido ha sido calentado por encima del punto de fusión.  Si el sólido se enfría lentamente, se pueden formar grandes estructuras cristalinas, las cuáles brindan propiedades benéficas para el sólido.  Sin embargo, cuando el sólido se enfría de manera descontrolada, el resultado es una estructura frágil con propiedades no deseables.\n\n<ul>\n<li>A mayor temperatura, mayor energía.</li>\n<li>A menor temperatura, menor energía.</li>\n<li>Las combinaciones más abruptas se generan a mayor energía.</li>\n</ul>\n\nEjemplo conceptual: un objeto moviéndose por el agua puede hacerlo de forma más rápida y por ende alcanzar un mayor número posiciones cuando el agua es caliente.  Sin embargo, a medida que el agua comienza a bajar de temperatura hasta solidificarse, el objeto tendrá menos posibilidad de moverse libremente.\n<br>\n<img src=\"res/more/simulated_annealing.gif\" width=\"600px\">\n<center><i>Simulated Anneling.</i></center>"
    },
    {
      "metadata": {},
      "cell_type": "markdown",
      "source": "<hr>\n<img src=\"res/more/sim_alg.png\">"
    },
    {
      "metadata": {
        "collapsed": true
      },
      "cell_type": "markdown",
      "source": "<hr>\nEn el enfriamiento simulado, se trata de minimizar la energía de la solución, haciendo la comparación entre un objeto caliente (inicial) y un objeto frío (final), el cuál tendrá menor energía.\n\nPara reemplazar una solución entonces, se evalúa si la nueva solución tiene menor o igual energía (mejor) que la actual, y de ser así, se reemplaza la solución actual por la nueva.\n\nSi por el contrario, la solución actual tiene mayor energía que la actual, se procede a decidir si se mantiene la solución o no de acuerdo a una probabilidad dada por:\n\n<center><font color=\"blue\" size=6>$P(\\delta E)=e^{\\frac{-\\delta E}{T}}$</font></center>\n\nDe acuerdo a la ecuación anterior, a medida que la temperatura disminuye, la probabilidad de aceptar una solución peor es menor.  Lo anterior asegura que a mayor temperatura la posibilidad de explorar nuevas soluciones sea mayor.\n<br>\n<img src=\"res/more/temp_delta.png\" width=400>"
    },
    {
      "metadata": {
        "trusted": true
      },
      "cell_type": "code",
      "source": "import numpy as np\n\ndelta_E = 7.5\nT_start = 100\nT_end = 0\n\nfor T in np.linspace(T_start,T_end,100):\n    print np.exp(-delta_E/T)",
      "execution_count": null,
      "outputs": []
    },
    {
      "metadata": {},
      "cell_type": "markdown",
      "source": "<hr>\nLa temperatura del sistema se reduce a una tasa constante ($\\alpha$), después de haber iterado $n$ veces para el mismo valor de temperatura (Monte Carlo).\n\n<center><font color=\"blue\" size=6>$T_{i+1}=\\alpha T_i$</font></center>"
    },
    {
      "metadata": {},
      "cell_type": "markdown",
      "source": "<hr>\nUtilicemos esta técnica para resolver el problema de las N-reinas que consiste en ubicar N reinas en un tablero de ajedrez de tamaño NxN sin que estas se crucen en ningún momento.\n\nAl igual que en algoritmos genéticos, el problema inicial de la solución, es la forma en que esta se codifica, para este caso se puede utilizar un arreglo de enteros: [3, 7, 2, 8, 5, 1, 4, 6]\n<br>\n<img src=\"res/more/n_reinas.png\" width=300>"
    },
    {
      "metadata": {
        "trusted": true
      },
      "cell_type": "code",
      "source": "#==============================================================================\n#           UTILIDADES - INFRAESTRUCTURA\n#==============================================================================\n\n\nclass solutionType: \n    '''\n    Clase solutionType\n    \n    Esta clase almacena un array table y una energia energy.\n    '''\n    def __init__(self):\n        self.table =  np.zeros(MAX_LENGTH, dtype=np.int)\n        self.energy = 100.0\n\n\ndef initializeSolution(solution):\n    '''\n    Esta funcion inicializa la solucion.\n    \n    INPUT:\n        solution: Un objeto de la clase solutionType.\n    '''\n    for i in range(MAX_LENGTH):\n        solution.table[i] = i\n\n    #perturbamos el tablero de forma aleatoria\n    for i in range(MAX_LENGTH):\n        tweakSolution(solution)\n\ndef tweakSolution(solution):\n    '''\n    Alterna valores del vector de solucion. Este metodo equivale\n    a perturbar la solucion.\n    \n    INPUT:\n        solution: Un objeto de la clase solutionType.\n    '''\n    #print(solution.table)\n    x = np.round(np.random.rand() * (MAX_LENGTH-1))\n\n    y = np.round( np.random.rand() * (MAX_LENGTH-1) )\n    \n    while (x == y):\n        y = np.round( np.random.rand() * (MAX_LENGTH-1) )\n\n    x_int = int(x)\n    y_int = int(y)\n\n    temp = solution.table[x_int]\n    solution.table[x_int] = solution.table[y_int]\n    solution.table[y_int] = temp\n    #solution.table = np.random.permutation(solution.table)\n\n    #print(solution.table)\n\ndef computeEnergy(solution):\n    '''\n    Funcion a optimizar.\n    \n    En este punto determinamos los conflictos diagonales porque la forma\n    en que inicializamos y alteramos la solucion, asegura que no se presentaran\n    conflictos verticales u horizontales.\n    \n    INPUT:\n        solution: Un objeto de la clase solutionType.\n    '''\n    board = np.zeros([MAX_LENGTH, MAX_LENGTH])\n\n    tempx = 0\n    tempy = 0\n\n    for i in range(MAX_LENGTH):\n        board[i][solution.table[i]] = 1\n\n    #print(board)\n\n    conflicts = 0\n    #direcciones de movimiento diagonales\n    dx = np.array([-1, 1, -1, 1])\n    dy = np.array([-1, 1, 1, -1])\n    #nos movemos por todo el tablero y calculamos el numero de conflictos\n    for i in range(MAX_LENGTH):\n        x = i\n        y = solution.table[i]\n\n        #verificamos las diagonales\n        for j in range(4):\n            tempx = x\n            tempy = y\n\n            while(True):\n                tempx += dx[j]\n                tempy += dy[j]\n                #si llega al principio o final del tablero\n                if((tempx < 0) or (tempx >= MAX_LENGTH) or (tempy < 0) or (tempy >= MAX_LENGTH ) ):\n                    break\n                #si encuentra otra reina\n                if(board[tempx][tempy] == 1):\n                    conflicts += 1\n\n    solution.energy = np.float(conflicts)",
      "execution_count": null,
      "outputs": []
    },
    {
      "metadata": {
        "trusted": true
      },
      "cell_type": "code",
      "source": "#==============================================================================\n#            METAPARAMETROS de SIMULATED ANNEALING\n#==============================================================================\n\nMAX_LENGTH = 7 #N para el problema de las N-reinas\nINITIAL_TEMPERATURE = 100.0\nFINAL_TEMPERATURE = 0.5\nALPHA = 0.85\nSTEPS_PER_CHANGE = 100 #numero de iteraciones por cada cambio de temperatura",
      "execution_count": null,
      "outputs": []
    },
    {
      "metadata": {
        "trusted": true
      },
      "cell_type": "code",
      "source": "'''\nN-Queens using simulated annealing.\nAuthor: Pedro Atencio\n'''\n\nimport numpy as np\nimport copy\n\n#==============================================================================\n#            SIMULATED ANNEALING\n#==============================================================================\ntimer = 0\nstep = 0\n#solution = False\nuseNew = False\naccepted = 0\n\ndelta = 0.0\n\ntemperature = INITIAL_TEMPERATURE\n\ncurrent = solutionType()\nworking = solutionType()\nbest = solutionType()\n\ninitializeSolution(current)\ncomputeEnergy(current)\n\nworking = copy.deepcopy(current)\n\nwhile(temperature > FINAL_TEMPERATURE):\n    #print('temperatura = ', temperature)\n    accepted = 0\n\n    #Monte Carlo\n    for step in range(STEPS_PER_CHANGE):\n        useNew = False\n\n        tweakSolution(working)\n        computeEnergy(working)\n\n        #si la energia de la nueva solucion es menor que la actual\n        if(working.energy <= current.energy):\n            delta = working.energy - current.energy\n            useNew = True\n        else:\n            test = np.random.rand()\n            delta = working.energy - current.energy\n            calc = np.exp(-delta / temperature)\n\n            if(calc < test):\n                useNew = True\n\n        #hacemos la solucion seleccionada, la actual\n        if(useNew):\n            useNew = False\n            current = copy.deepcopy(working)\n            if(current.energy < best.energy):\n                best = copy.deepcopy(current)\n            else:\n                working = copy.deepcopy(current)\n\n    #actualizamos la temperatura\n    temperature *= ALPHA\n\nprint(best.table, best.energy)",
      "execution_count": null,
      "outputs": []
    },
    {
      "metadata": {},
      "cell_type": "markdown",
      "source": "# Simulated Annealing - Conclusiones\n<ul>\n    <li>Algoritmo simple y de fácil implementación.</li>\n    <li>La función de energía es equivalente a la función heurística de la búsqueda informada.</li>\n    <li>Obtener el resultado esperado depende de los parametros iniciales, por lo que no se asegura un funcionamiento determinista.</li>\n    <li>Configurar los parametros iniciales requiere un poco de \"arte\".</li>\n    <li>Debido a la facilidad de implementación de algoritmo, puede ser una primera alternativa a explorar.</li>\n</ul>"
    },
    {
      "metadata": {
        "trusted": true
      },
      "cell_type": "code",
      "source": "",
      "execution_count": null,
      "outputs": []
    }
  ],
  "metadata": {
    "anaconda-cloud": {},
    "kernelspec": {
      "name": "python2",
      "display_name": "Python 2",
      "language": "python"
    },
    "language_info": {
      "mimetype": "text/x-python",
      "nbconvert_exporter": "python",
      "name": "python",
      "pygments_lexer": "ipython2",
      "version": "2.7.15",
      "file_extension": ".py",
      "codemirror_mode": {
        "version": 2,
        "name": "ipython"
      }
    }
  },
  "nbformat": 4,
  "nbformat_minor": 2
}