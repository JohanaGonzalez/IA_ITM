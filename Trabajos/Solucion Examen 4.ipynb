{
  "cells": [
    {
      "metadata": {
        "trusted": true
      },
      "cell_type": "code",
      "source": "import numpy as np",
      "execution_count": 3,
      "outputs": []
    },
    {
      "metadata": {},
      "cell_type": "markdown",
      "source": "<hr>\n\n# Punto 1"
    },
    {
      "metadata": {
        "trusted": true
      },
      "cell_type": "code",
      "source": "w = np.array([[0.5],[-0.8]])\nb = -1.23\n\nx = np.array([[0.0], [1.0]])\ny = 3.4\n\na = np.dot(w.T,x)+b\n\n#descenso del gradiente\ndw = (a-y)*x\ndb = (a-y)\n\nlearning_rate = 0.5\n\nw_actualizado = w - learning_rate*dw\nb_actualizado = b - learning_rate*db\n\nprint(\"Parametros actualizados: \",w_actualizado,b_actualizado)",
      "execution_count": 8,
      "outputs": [
        {
          "output_type": "stream",
          "text": "('Parametros actualizados: ', array([[0.5  ],\n       [1.915]]), array([[1.485]]))\n",
          "name": "stdout"
        }
      ]
    },
    {
      "metadata": {
        "trusted": true
      },
      "cell_type": "code",
      "source": "#Verifiquemos que el error sea menor con los parametros actualizados\na1 = np.dot(w.T,x)+b\na2 = np.dot(w_actualizado.T,x)+b_actualizado\n\nerror1 = 1./2.*(a1-y)**2\nerror2 = 1./2.*(a2-y)**2\n\nprint(\"Errores antes y despues de la actualizacion: \", error1, error2)",
      "execution_count": 140,
      "outputs": [
        {
          "output_type": "stream",
          "text": "('Errores antes y despues de la actualizacion: ', array([[14.74245]]), array([[9.86076132e-32]]))\n",
          "name": "stdout"
        }
      ]
    },
    {
      "metadata": {},
      "cell_type": "markdown",
      "source": "<hr>\n\n# Punto 2"
    },
    {
      "metadata": {
        "trusted": true
      },
      "cell_type": "code",
      "source": "def logloss(a, y):\n    return -(y*np.log(a)+(1-y)*np.log(1-a))\n\ndef sigmoid(z):\n    return 1. / (1. + np.exp(-z))",
      "execution_count": 141,
      "outputs": []
    },
    {
      "metadata": {
        "trusted": true
      },
      "cell_type": "code",
      "source": "z = np.dot(w.T,x)+b\na = sigmoid(z)\n\ny = 1.0\n\nprint(\"Valor del error logistico: \", logloss(a,y))",
      "execution_count": 142,
      "outputs": [
        {
          "output_type": "stream",
          "text": "('Valor del error logistico: ', array([[2.15339881]]))\n",
          "name": "stdout"
        }
      ]
    },
    {
      "metadata": {},
      "cell_type": "markdown",
      "source": "<hr>\n\n# Punto 3\n\nDimensiones de los parametros $W$ y $b$:\n\n<center><font size=\"5\">\n\n$W^{1}_{4 \\times 3}, W^{2}_{2 \\times 4}, W^{3}_{3 \\times 2}, W^{4}_{5 \\times 3}, W^{5}_{1 \\times 5}$\n\n<br>\n<br>\n\n$b^{1}_{4 \\times 1}, b^{1}_{2 \\times 1}, b^{1}_{3 \\times 1}, b^{1}_{5 \\times 1}, b^{1}_{1 \\times 1}$\n\n</font></center>"
    },
    {
      "metadata": {},
      "cell_type": "markdown",
      "source": "<hr>\n\n# Punto 4\n\n<img src=\"RNA.png\" width=\"400\">"
    },
    {
      "metadata": {},
      "cell_type": "markdown",
      "source": "<hr>\n\n# Punto 5"
    },
    {
      "metadata": {
        "trusted": true
      },
      "cell_type": "code",
      "source": "W1 = np.random.random([4,3])\nW2 = np.random.random([2,4])\nW3 = np.random.random([3,2])\nW4 = np.random.random([5,3])\nW5 = np.random.random([1,5])\n\nb1 = np.zeros([4,1])\nb2 = np.zeros([2,1])\nb3 = np.zeros([3,1])\nb4 = np.zeros([5,1])\nb5 = 0",
      "execution_count": 155,
      "outputs": []
    },
    {
      "metadata": {
        "trusted": true
      },
      "cell_type": "code",
      "source": "nx = 3\nm = 3\n\nX = np.random.random([nx,m])\nprint(X)",
      "execution_count": 156,
      "outputs": [
        {
          "output_type": "stream",
          "text": "[[0.15423724 0.17687794 0.88100883]\n [0.65805858 0.79097866 0.89643006]\n [0.35134163 0.02186133 0.12720672]]\n",
          "name": "stdout"
        }
      ]
    },
    {
      "metadata": {
        "trusted": true
      },
      "cell_type": "code",
      "source": "#Forward Propagation\nZ1 = np.dot(W1, X) + b1\nA1 = sigmoid(Z1)\n\nZ2 = np.dot(W2, A1) + b2\nA2 = sigmoid(Z2)\n\nZ3 = np.dot(W3, A2) + b3\nA3 = sigmoid(Z3)\n\nZ4 = np.dot(W4, A3) + b4\nA4 = sigmoid(Z4)\n\nZ5 = np.dot(W5, A4) + b5\nA5 = sigmoid(Z5)\n\nprint(A5)",
      "execution_count": 157,
      "outputs": [
        {
          "output_type": "stream",
          "text": "[[0.84724114 0.84714415 0.8477757 ]]\n",
          "name": "stdout"
        }
      ]
    },
    {
      "metadata": {
        "trusted": true
      },
      "cell_type": "code",
      "source": "np.random.randint??",
      "execution_count": 119,
      "outputs": []
    },
    {
      "metadata": {
        "trusted": true
      },
      "cell_type": "code",
      "source": "",
      "execution_count": null,
      "outputs": []
    }
  ],
  "metadata": {
    "kernelspec": {
      "name": "python2",
      "display_name": "Python 2",
      "language": "python"
    }
  },
  "nbformat": 4,
  "nbformat_minor": 2
}