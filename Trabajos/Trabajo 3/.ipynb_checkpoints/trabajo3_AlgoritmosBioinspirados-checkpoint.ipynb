{
 "cells": [
  {
   "cell_type": "markdown",
   "metadata": {},
   "source": [
    " <img src=\"res/itm_logo.jpg\" width=\"300px\">\n",
    "\n",
    "## Inteligencia Artificial - IAI84\n",
    "### Instituto Tecnológico Metropolitano\n",
    "#### Pedro Atencio Ortiz - 2018"
   ]
  },
  {
   "cell_type": "markdown",
   "metadata": {},
   "source": [
    "<hr>\n",
    "## Trabajo No.3: Algoritmos bioinspirados\n",
    "### Condiciones:\n",
    "- **Integrantes**: 3 personas máximo.\n",
    "- **Porcentaje evaluativo**: 10%\n",
    "- **Forma de entrega**: via correo electrónico a pedroatencio@itm.edu.co\n",
    "- **Formato de entrega**: Documento en pdf sobre el análisis realizado.\n",
    "- **Fecha de entrega**: 27 de marzo de 2018"
   ]
  },
  {
   "cell_type": "markdown",
   "metadata": {},
   "source": [
    "<hr>\n",
    "\n",
    "# Descripción\n",
    "Los algoritmos bio-inspirados, son un tema de actual interés para las ciencias de la computación y particularmente para problemas de optimización. Estos algoritmos toman conceptos observables en la naturaleza y los adaptan en una solución computacional. Los algoritmos genéticos pertenecen a esta categoría. \n",
    "\n",
    "La observación de enjambres (organismos organizados para un propósito común) en la naturaleza ha permitido desarrollar distintos algoritmos para resolver problemas de optimización. Estos algoritmos se conocen como optimización de enjambres (swarm optimization).\n",
    "\n",
    "En este trabajo se definen grupos de trabajo para **ANALIZAR** distintos algoritmos de enjambre.\n",
    "\n",
    "## Fuentes de consulta\n",
    "Se comparten dos artículos científcos en pdf titulados **\"A Comprehensive Review of Swarm Optimization Algorithms\"** y **\"Bio-Inspired Optimization Method: A Review\"**. \n",
    "\n",
    "Estos artículos contienen la base inicial de consulta de los algoritmos requeridos para el trabajo. Sin embargo es necesario consultar otras fuentes para ampliar el detalle de estos.\n",
    "\n",
    "<hr>\n",
    "# Actividades del trabajo\n",
    "\n",
    "Para realizar el análisis del trabajo, se requiere seguir el siguiente procedimiento:\n",
    "\n",
    "## 1. Introducción al tema (25%)\n",
    "- Presentación del tema que será analizado.\n",
    "- Planteamiento del propósito y objetivo del trabajo.\n",
    "- Revisión de trabajos relacionados (estado del arte): En este punto se revisan y exponen artículos científicos relacionados con el tema y estudios de caso en los que se haya aplicado dicha técnica.\n",
    "- Se presenta la organización del documento.\n",
    "\n",
    "## 2. Análisis (50%)\n",
    "- Esquema general: se presenta el esquema general de la técnica en términos de su funcionamiento general. \n",
    "- Detalle técnico: ecuaciones y algoritmos que rigen la técnica y una explicación de los mismos.\n",
    "\n",
    "## 3. Conclusiones (25%)\n",
    "- Ventajas y limitaciones de la técnica.\n",
    "- Aplicaciones de la técnica en ingeniería de sistemas.\n",
    "- Posibles trabajos de interés a futuro."
   ]
  },
  {
   "cell_type": "code",
   "execution_count": null,
   "metadata": {
    "collapsed": true
   },
   "outputs": [],
   "source": []
  }
 ],
 "metadata": {
  "kernelspec": {
   "display_name": "Python 2",
   "language": "python",
   "name": "python2"
  },
  "language_info": {
   "codemirror_mode": {
    "name": "ipython",
    "version": 2
   },
   "file_extension": ".py",
   "mimetype": "text/x-python",
   "name": "python",
   "nbconvert_exporter": "python",
   "pygments_lexer": "ipython2",
   "version": "2.7.13"
  }
 },
 "nbformat": 4,
 "nbformat_minor": 2
}
